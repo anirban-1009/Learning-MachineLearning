{
 "cells": [
  {
   "cell_type": "markdown",
   "id": "1626bd35-e68f-435b-beb6-ce72bc41645a",
   "metadata": {},
   "source": [
    "[Paper Reference](https://www.jmlr.org/papers/volume3/bengio03a/bengio03a.pdf)"
   ]
  },
  {
   "cell_type": "code",
   "execution_count": 1,
   "id": "31b1eadc-d791-4205-b44c-620042e9ae93",
   "metadata": {},
   "outputs": [],
   "source": [
    "import torch\n",
    "import torch.nn.functional as F\n",
    "import matplotlib.pyplot as plt\n",
    "%matplotlib inline"
   ]
  },
  {
   "cell_type": "code",
   "execution_count": 2,
   "id": "98de280a-6b2f-492b-99ad-46aa03b8cd05",
   "metadata": {},
   "outputs": [
    {
     "data": {
      "text/plain": [
       "['emma', 'olivia', 'ava', 'isabella', 'sophia', 'charlotte', 'mia', 'amelia']"
      ]
     },
     "execution_count": 2,
     "metadata": {},
     "output_type": "execute_result"
    }
   ],
   "source": [
    "words = open('names.txt', 'r').read().splitlines()\n",
    "words[:8]"
   ]
  },
  {
   "cell_type": "code",
   "execution_count": 3,
   "id": "8e0d1df0-10f3-4978-8d41-96da44cab9fc",
   "metadata": {},
   "outputs": [
    {
     "data": {
      "text/plain": [
       "32033"
      ]
     },
     "execution_count": 3,
     "metadata": {},
     "output_type": "execute_result"
    }
   ],
   "source": [
    "len(words)"
   ]
  },
  {
   "cell_type": "code",
   "execution_count": 4,
   "id": "fb670f95-1f35-42e5-98df-975357eb779c",
   "metadata": {
    "scrolled": true
   },
   "outputs": [
    {
     "data": {
      "text/plain": [
       "{1: 'a',\n",
       " 2: 'b',\n",
       " 3: 'c',\n",
       " 4: 'd',\n",
       " 5: 'e',\n",
       " 6: 'f',\n",
       " 7: 'g',\n",
       " 8: 'h',\n",
       " 9: 'i',\n",
       " 10: 'j',\n",
       " 11: 'k',\n",
       " 12: 'l',\n",
       " 13: 'm',\n",
       " 14: 'n',\n",
       " 15: 'o',\n",
       " 16: 'p',\n",
       " 17: 'q',\n",
       " 18: 'r',\n",
       " 19: 's',\n",
       " 20: 't',\n",
       " 21: 'u',\n",
       " 22: 'v',\n",
       " 23: 'w',\n",
       " 24: 'x',\n",
       " 25: 'y',\n",
       " 26: 'z',\n",
       " 0: '.'}"
      ]
     },
     "execution_count": 4,
     "metadata": {},
     "output_type": "execute_result"
    }
   ],
   "source": [
    "chars = sorted(list(set(''.join(words))))\n",
    "stoi = {s: i for i, s in enumerate(chars, 1)}\n",
    "stoi['.'] = 0\n",
    "itos = {i: s for s, i in stoi.items()}\n",
    "itos"
   ]
  },
  {
   "cell_type": "code",
   "execution_count": 5,
   "id": "32198edc-8bce-4e23-9fa8-4a5670f197a8",
   "metadata": {},
   "outputs": [],
   "source": [
    "# Building datasets\n",
    "block_size = 3\n",
    "X, Y = [], []\n",
    "for word in words[:5]:\n",
    "    # print(word)`\n",
    "    context = [0] * block_size\n",
    "    for ch in word + '.':\n",
    "        ix = stoi[ch]\n",
    "        X.append(context)\n",
    "        Y.append(ix)\n",
    "        # print(''.join(itos[i] for i in context), '---->', itos[ix])\n",
    "        context = context[1:] + [ix]\n",
    "\n",
    "X = torch.tensor(X) # examples\n",
    "Y = torch.tensor(Y) # Labels"
   ]
  },
  {
   "cell_type": "code",
   "execution_count": 6,
   "id": "bdfe5c64-ed7a-4b6f-9f7b-2f8a7db8d0e1",
   "metadata": {},
   "outputs": [
    {
     "data": {
      "text/plain": [
       "(torch.Size([32, 3]), torch.int64, torch.Size([32]), torch.int64)"
      ]
     },
     "execution_count": 6,
     "metadata": {},
     "output_type": "execute_result"
    }
   ],
   "source": [
    "X.shape, X.dtype, Y.shape, Y.dtype"
   ]
  },
  {
   "cell_type": "markdown",
   "id": "aceabfda-bb49-4d6b-a3a5-b7b211c4c16a",
   "metadata": {},
   "source": [
    "`X` are examples, and the `Y` are the labels"
   ]
  },
  {
   "cell_type": "code",
   "execution_count": 7,
   "id": "72235489-c0f2-440a-b0b0-386fd6df65aa",
   "metadata": {},
   "outputs": [],
   "source": [
    "C = torch.rand(27, 2) # lookup table"
   ]
  },
  {
   "cell_type": "code",
   "execution_count": 8,
   "id": "b5628bc2-0b61-45fc-94ac-ccbbe5f38573",
   "metadata": {},
   "outputs": [
    {
     "data": {
      "text/plain": [
       "tensor([0.3370, 0.2995])"
      ]
     },
     "execution_count": 8,
     "metadata": {},
     "output_type": "execute_result"
    }
   ],
   "source": [
    "C[5]"
   ]
  },
  {
   "cell_type": "code",
   "execution_count": 9,
   "id": "409ed78a-3758-4891-8007-cc10a9a5d438",
   "metadata": {},
   "outputs": [
    {
     "data": {
      "text/plain": [
       "tensor([0.3370, 0.2995])"
      ]
     },
     "execution_count": 9,
     "metadata": {},
     "output_type": "execute_result"
    }
   ],
   "source": [
    "F.one_hot(torch.tensor(5), num_classes=27).float() @ C # converting, the number to one_hot, then multiply with the Matrix to get the value"
   ]
  },
  {
   "cell_type": "code",
   "execution_count": 10,
   "id": "ea6be1d8-68ec-4ad6-9034-bd4a9307e87e",
   "metadata": {},
   "outputs": [
    {
     "data": {
      "text/plain": [
       "torch.Size([32, 3, 2])"
      ]
     },
     "execution_count": 10,
     "metadata": {},
     "output_type": "execute_result"
    }
   ],
   "source": [
    "emb = C[X] # mapping to a look up table\n",
    "emb.shape"
   ]
  },
  {
   "cell_type": "code",
   "execution_count": 11,
   "id": "2d4b2094-6b9c-44fb-8414-1b98166d02be",
   "metadata": {},
   "outputs": [],
   "source": [
    "W1 = torch.randn((6, 100)) # 3 x 2 = 6\n",
    "b1 = torch.randn(100)"
   ]
  },
  {
   "cell_type": "code",
   "execution_count": 12,
   "id": "bfa9996a-515b-4f42-880f-9f12ac2d8184",
   "metadata": {},
   "outputs": [
    {
     "data": {
      "text/plain": [
       "torch.Size([32, 6])"
      ]
     },
     "execution_count": 12,
     "metadata": {},
     "output_type": "execute_result"
    }
   ],
   "source": [
    "torch.cat([emb[:, 0, :], emb[:, 1, :], emb[:, 2, :]], 1).shape"
   ]
  },
  {
   "cell_type": "code",
   "execution_count": 13,
   "id": "e9769a08-c3ff-4450-b4ce-afe72aaa0bf5",
   "metadata": {
    "scrolled": true
   },
   "outputs": [
    {
     "data": {
      "text/plain": [
       "[tensor([[0.3435, 0.4652],\n",
       "         [0.3435, 0.4652],\n",
       "         [0.3435, 0.4652],\n",
       "         [0.3370, 0.2995],\n",
       "         [0.2676, 0.0788],\n",
       "         [0.3435, 0.4652],\n",
       "         [0.3435, 0.4652],\n",
       "         [0.3435, 0.4652],\n",
       "         [0.2066, 0.8094],\n",
       "         [0.7409, 0.1287],\n",
       "         [0.4233, 0.1491],\n",
       "         [0.4857, 0.3081],\n",
       "         [0.3435, 0.4652],\n",
       "         [0.3435, 0.4652],\n",
       "         [0.3435, 0.4652],\n",
       "         [0.1064, 0.4182],\n",
       "         [0.3435, 0.4652],\n",
       "         [0.3435, 0.4652],\n",
       "         [0.3435, 0.4652],\n",
       "         [0.4233, 0.1491],\n",
       "         [0.3340, 0.7720],\n",
       "         [0.1064, 0.4182],\n",
       "         [0.1719, 0.5746],\n",
       "         [0.3370, 0.2995],\n",
       "         [0.7409, 0.1287],\n",
       "         [0.3435, 0.4652],\n",
       "         [0.3435, 0.4652],\n",
       "         [0.3435, 0.4652],\n",
       "         [0.3340, 0.7720],\n",
       "         [0.2066, 0.8094],\n",
       "         [0.8205, 0.1438],\n",
       "         [0.7995, 0.6227]]),\n",
       " tensor([[0.3435, 0.4652],\n",
       "         [0.3435, 0.4652],\n",
       "         [0.3370, 0.2995],\n",
       "         [0.2676, 0.0788],\n",
       "         [0.2676, 0.0788],\n",
       "         [0.3435, 0.4652],\n",
       "         [0.3435, 0.4652],\n",
       "         [0.2066, 0.8094],\n",
       "         [0.7409, 0.1287],\n",
       "         [0.4233, 0.1491],\n",
       "         [0.4857, 0.3081],\n",
       "         [0.4233, 0.1491],\n",
       "         [0.3435, 0.4652],\n",
       "         [0.3435, 0.4652],\n",
       "         [0.1064, 0.4182],\n",
       "         [0.4857, 0.3081],\n",
       "         [0.3435, 0.4652],\n",
       "         [0.3435, 0.4652],\n",
       "         [0.4233, 0.1491],\n",
       "         [0.3340, 0.7720],\n",
       "         [0.1064, 0.4182],\n",
       "         [0.1719, 0.5746],\n",
       "         [0.3370, 0.2995],\n",
       "         [0.7409, 0.1287],\n",
       "         [0.7409, 0.1287],\n",
       "         [0.3435, 0.4652],\n",
       "         [0.3435, 0.4652],\n",
       "         [0.3340, 0.7720],\n",
       "         [0.2066, 0.8094],\n",
       "         [0.8205, 0.1438],\n",
       "         [0.7995, 0.6227],\n",
       "         [0.4233, 0.1491]]),\n",
       " tensor([[0.3435, 0.4652],\n",
       "         [0.3370, 0.2995],\n",
       "         [0.2676, 0.0788],\n",
       "         [0.2676, 0.0788],\n",
       "         [0.1064, 0.4182],\n",
       "         [0.3435, 0.4652],\n",
       "         [0.2066, 0.8094],\n",
       "         [0.7409, 0.1287],\n",
       "         [0.4233, 0.1491],\n",
       "         [0.4857, 0.3081],\n",
       "         [0.4233, 0.1491],\n",
       "         [0.1064, 0.4182],\n",
       "         [0.3435, 0.4652],\n",
       "         [0.1064, 0.4182],\n",
       "         [0.4857, 0.3081],\n",
       "         [0.1064, 0.4182],\n",
       "         [0.3435, 0.4652],\n",
       "         [0.4233, 0.1491],\n",
       "         [0.3340, 0.7720],\n",
       "         [0.1064, 0.4182],\n",
       "         [0.1719, 0.5746],\n",
       "         [0.3370, 0.2995],\n",
       "         [0.7409, 0.1287],\n",
       "         [0.7409, 0.1287],\n",
       "         [0.1064, 0.4182],\n",
       "         [0.3435, 0.4652],\n",
       "         [0.3340, 0.7720],\n",
       "         [0.2066, 0.8094],\n",
       "         [0.8205, 0.1438],\n",
       "         [0.7995, 0.6227],\n",
       "         [0.4233, 0.1491],\n",
       "         [0.1064, 0.4182]])]"
      ]
     },
     "execution_count": 13,
     "metadata": {},
     "output_type": "execute_result"
    }
   ],
   "source": [
    "[emb[:, 0, :], emb[:, 1, :], emb[:, 2, :]]"
   ]
  },
  {
   "cell_type": "code",
   "execution_count": 14,
   "id": "e548caee-366a-4364-9ec0-ea9e93adab38",
   "metadata": {},
   "outputs": [
    {
     "data": {
      "text/plain": [
       "torch.Size([32, 6])"
      ]
     },
     "execution_count": 14,
     "metadata": {},
     "output_type": "execute_result"
    }
   ],
   "source": [
    "torch.cat(torch.unbind(emb, 1), 1).shape"
   ]
  },
  {
   "cell_type": "markdown",
   "id": "17161b83-efe1-4a4b-aa4c-c1ae853a4141",
   "metadata": {},
   "source": [
    "[Resume from here](https://youtu.be/TCH_1BHY58I?t=1430)"
   ]
  },
  {
   "cell_type": "code",
   "execution_count": 15,
   "id": "3e6d5404-f1ed-4ec6-af29-430c87c73a1a",
   "metadata": {},
   "outputs": [],
   "source": [
    "a = torch.arange(18)"
   ]
  },
  {
   "cell_type": "code",
   "execution_count": 16,
   "id": "fe222866-7211-4653-ac3e-059e85500b09",
   "metadata": {},
   "outputs": [
    {
     "data": {
      "text/plain": [
       "tensor([ 0,  1,  2,  3,  4,  5,  6,  7,  8,  9, 10, 11, 12, 13, 14, 15, 16, 17])"
      ]
     },
     "execution_count": 16,
     "metadata": {},
     "output_type": "execute_result"
    }
   ],
   "source": [
    "a"
   ]
  },
  {
   "cell_type": "code",
   "execution_count": 17,
   "id": "e5dd550f-28dc-41f0-b0f8-0635c86935c4",
   "metadata": {},
   "outputs": [
    {
     "data": {
      "text/plain": [
       "tensor([[[ 0,  1],\n",
       "         [ 2,  3],\n",
       "         [ 4,  5]],\n",
       "\n",
       "        [[ 6,  7],\n",
       "         [ 8,  9],\n",
       "         [10, 11]],\n",
       "\n",
       "        [[12, 13],\n",
       "         [14, 15],\n",
       "         [16, 17]]])"
      ]
     },
     "execution_count": 17,
     "metadata": {},
     "output_type": "execute_result"
    }
   ],
   "source": [
    "a.view(3, 3, 2)"
   ]
  },
  {
   "cell_type": "markdown",
   "id": "10d54f8c-7f4a-4cee-9148-8acf93b000e7",
   "metadata": {},
   "source": [
    "[Reference on view](https://blog.ezyang.com/2019/05/pytorch-internals/)"
   ]
  },
  {
   "cell_type": "code",
   "execution_count": 18,
   "id": "c7c099bb-27db-4012-ae5b-6e46e47f2a0a",
   "metadata": {},
   "outputs": [
    {
     "data": {
      "text/plain": [
       "torch.Size([32, 6])"
      ]
     },
     "execution_count": 18,
     "metadata": {},
     "output_type": "execute_result"
    }
   ],
   "source": [
    "emb.view(32, 6).shape"
   ]
  },
  {
   "cell_type": "code",
   "execution_count": 19,
   "id": "fcc9db0a-e7c9-4e18-aa9c-7d92e0f54a7d",
   "metadata": {},
   "outputs": [
    {
     "data": {
      "text/plain": [
       "torch.Size([32, 3, 2])"
      ]
     },
     "execution_count": 19,
     "metadata": {},
     "output_type": "execute_result"
    }
   ],
   "source": [
    "emb.shape"
   ]
  },
  {
   "cell_type": "markdown",
   "id": "b061d837-17f8-4e40-ac3d-ff539d241536",
   "metadata": {},
   "source": [
    "### Understanding `torch.tensor.view`"
   ]
  },
  {
   "cell_type": "code",
   "execution_count": 20,
   "id": "c1838af0-dd57-4a80-afdd-1ff4cbcc5d7f",
   "metadata": {},
   "outputs": [
    {
     "data": {
      "text/plain": [
       "torch.Size([3, 3, 2])"
      ]
     },
     "execution_count": 20,
     "metadata": {},
     "output_type": "execute_result"
    }
   ],
   "source": [
    "tensor = torch.tensor([[[1, 2], [3, 4], [5, 6]],\n",
    "                       [[7, 8], [9, 10], [11, 12]],\n",
    "                       [[13, 14], [15, 16], [17, 18]]])\n",
    "tensor.shape"
   ]
  },
  {
   "cell_type": "code",
   "execution_count": 21,
   "id": "1db56995-57c4-4a41-9244-6a6d20526d64",
   "metadata": {},
   "outputs": [
    {
     "data": {
      "text/plain": [
       "tensor([[[ 1,  2]],\n",
       "\n",
       "        [[ 3,  4]],\n",
       "\n",
       "        [[ 5,  6]],\n",
       "\n",
       "        [[ 7,  8]],\n",
       "\n",
       "        [[ 9, 10]],\n",
       "\n",
       "        [[11, 12]],\n",
       "\n",
       "        [[13, 14]],\n",
       "\n",
       "        [[15, 16]],\n",
       "\n",
       "        [[17, 18]]])"
      ]
     },
     "execution_count": 21,
     "metadata": {},
     "output_type": "execute_result"
    }
   ],
   "source": [
    "tensor.view(9, 1, 2)"
   ]
  },
  {
   "cell_type": "code",
   "execution_count": 22,
   "id": "80cc4b53-4255-4698-ae9d-c9c165a74218",
   "metadata": {},
   "outputs": [],
   "source": [
    "h = torch.tanh(emb.view(-1, 6) @ W1 + b1)"
   ]
  },
  {
   "cell_type": "code",
   "execution_count": 23,
   "id": "8664bc54-f239-4804-9cc1-9b5849037ebb",
   "metadata": {},
   "outputs": [
    {
     "data": {
      "text/plain": [
       "torch.Size([32, 100])"
      ]
     },
     "execution_count": 23,
     "metadata": {},
     "output_type": "execute_result"
    }
   ],
   "source": [
    "h.shape"
   ]
  },
  {
   "cell_type": "code",
   "execution_count": 24,
   "id": "3b21c38a-40a7-44af-a4cd-01a8f776b68c",
   "metadata": {},
   "outputs": [],
   "source": [
    "W2 = torch.randn((100, 27))\n",
    "b2 = torch.randn(27)"
   ]
  },
  {
   "cell_type": "code",
   "execution_count": 25,
   "id": "efab2648-e5d4-48d7-8aad-4b17dcace2ab",
   "metadata": {},
   "outputs": [
    {
     "data": {
      "text/plain": [
       "torch.Size([100, 27])"
      ]
     },
     "execution_count": 25,
     "metadata": {},
     "output_type": "execute_result"
    }
   ],
   "source": [
    "W2.shape"
   ]
  },
  {
   "cell_type": "code",
   "execution_count": 26,
   "id": "0bf2ea71-8be4-40ba-bd2a-cc3cd7a756f0",
   "metadata": {},
   "outputs": [
    {
     "data": {
      "text/plain": [
       "torch.Size([32, 27])"
      ]
     },
     "execution_count": 26,
     "metadata": {},
     "output_type": "execute_result"
    }
   ],
   "source": [
    "logits = h @ W2 + b2\n",
    "logits.shape"
   ]
  },
  {
   "cell_type": "code",
   "execution_count": 27,
   "id": "227ec4a9-43fe-4904-bd70-3af0965192d9",
   "metadata": {},
   "outputs": [],
   "source": [
    "counts = logits.exp()"
   ]
  },
  {
   "cell_type": "code",
   "execution_count": 28,
   "id": "6f73511e-f02d-43f3-9c7a-6bb2d06545be",
   "metadata": {},
   "outputs": [],
   "source": [
    "prob = counts / counts.sum(1, keepdims=True)"
   ]
  },
  {
   "cell_type": "code",
   "execution_count": 29,
   "id": "8df08808-3349-4527-91fb-976dc8163c56",
   "metadata": {},
   "outputs": [
    {
     "data": {
      "text/plain": [
       "torch.Size([32, 27])"
      ]
     },
     "execution_count": 29,
     "metadata": {},
     "output_type": "execute_result"
    }
   ],
   "source": [
    "prob.shape"
   ]
  },
  {
   "cell_type": "code",
   "execution_count": 30,
   "id": "cc84eaa4-010b-4470-a943-5a93bdea2cb4",
   "metadata": {},
   "outputs": [
    {
     "data": {
      "text/plain": [
       "tensor([4.7264e-07, 9.6397e-09, 3.8261e-09, 2.3017e-12, 1.7298e-05, 4.2549e-07,\n",
       "        2.5314e-08, 1.7456e-01, 1.0113e-05, 9.8615e-01, 9.8960e-14, 2.3811e-04,\n",
       "        7.5896e-12, 3.8257e-08, 2.9561e-13, 3.9819e-03, 8.5070e-01, 2.5404e-09,\n",
       "        8.7297e-09, 8.8415e-15, 1.2980e-07, 2.2813e-07, 2.5884e-11, 1.4006e-13,\n",
       "        2.5823e-06, 4.1306e-10, 4.6081e-08, 4.1154e-12, 7.9495e-02, 5.1247e-03,\n",
       "        2.2789e-14, 4.2611e-04])"
      ]
     },
     "execution_count": 30,
     "metadata": {},
     "output_type": "execute_result"
    }
   ],
   "source": [
    "prob[torch.arange(32), Y]"
   ]
  },
  {
   "cell_type": "code",
   "execution_count": 31,
   "id": "f209d576-1ec5-44aa-994b-d3b40fb56203",
   "metadata": {},
   "outputs": [],
   "source": [
    "loss = -prob[torch.arange(32), Y].log().mean()"
   ]
  },
  {
   "cell_type": "markdown",
   "id": "e047e4bd-21dc-4233-bd12-aec5f89062de",
   "metadata": {},
   "source": [
    "[Resume from here](https://youtu.be/TCH_1BHY58I?t=1947)"
   ]
  },
  {
   "cell_type": "code",
   "execution_count": 32,
   "id": "23f18537-d9f3-4686-97fc-30d90edb67dc",
   "metadata": {},
   "outputs": [],
   "source": [
    "# Building datasets\n",
    "block_size = 3\n",
    "X, Y = [], []\n",
    "for word in words:\n",
    "    # print(word)`\n",
    "    context = [0] * block_size\n",
    "    for ch in word + '.':\n",
    "        ix = stoi[ch]\n",
    "        X.append(context)\n",
    "        Y.append(ix)\n",
    "        # print(''.join(itos[i] for i in context), '---->', itos[ix])\n",
    "        context = context[1:] + [ix]\n",
    "\n",
    "X = torch.tensor(X) # examples\n",
    "Y = torch.tensor(Y) # Labels"
   ]
  },
  {
   "cell_type": "code",
   "execution_count": 33,
   "id": "dbdb0130-e092-42f8-a563-2153173fbe02",
   "metadata": {},
   "outputs": [],
   "source": [
    "g = torch.Generator().manual_seed(2147483647) # for reproducibility\n",
    "C = torch.randn((27, 2), generator=g)\n",
    "W1 = torch.randn((6, 100), generator=g)\n",
    "b1 = torch.randn(100, generator=g)\n",
    "W2 = torch.randn((100, 27), generator=g)\n",
    "b2 = torch.randn(27, generator=g)\n",
    "parameters = C, W1, b1, W2, b2, "
   ]
  },
  {
   "cell_type": "code",
   "execution_count": 34,
   "id": "195c036c-a905-40c3-8f01-d7e29a6a9e19",
   "metadata": {},
   "outputs": [],
   "source": [
    "for p in parameters:\n",
    "    p.requires_grad = True "
   ]
  },
  {
   "cell_type": "markdown",
   "id": "80cea94e-cdb1-41fa-bd63-f80b1e5cd349",
   "metadata": {},
   "source": [
    "1. because of the cross_entropy, the forward pass is efficient\n",
    "2. The backward pass becomes efficient, because the maths is compressed into a kernel\n",
    "3. while handling large numbers it eliminates the max number to get a good exponential"
   ]
  },
  {
   "cell_type": "code",
   "execution_count": 35,
   "id": "977406f7-53d1-425a-8d1a-54e95a2f6348",
   "metadata": {
    "scrolled": true
   },
   "outputs": [
    {
     "name": "stdout",
     "output_type": "stream",
     "text": [
      "19.505229949951172\n",
      "17.08449363708496\n",
      "15.776532173156738\n",
      "14.83333683013916\n",
      "14.002595901489258\n",
      "13.253254890441895\n",
      "12.579914093017578\n",
      "11.983097076416016\n",
      "11.470491409301758\n",
      "11.051855087280273\n",
      "10.709585189819336\n",
      "10.407631874084473\n",
      "10.127808570861816\n",
      "9.864365577697754\n",
      "9.61450481414795\n",
      "9.37644100189209\n",
      "9.148946762084961\n",
      "8.931112289428711\n",
      "8.722232818603516\n",
      "8.52175235748291\n",
      "8.329231262207031\n",
      "8.144329071044922\n",
      "7.966794967651367\n",
      "7.796453952789307\n",
      "7.633190155029297\n",
      "7.476911544799805\n",
      "7.327525615692139\n",
      "7.184889316558838\n",
      "7.0487961769104\n",
      "6.918957233428955\n",
      "6.795023441314697\n",
      "6.676609039306641\n",
      "6.563324451446533\n",
      "6.454794406890869\n",
      "6.350673675537109\n",
      "6.250648498535156\n",
      "6.1544365882873535\n",
      "6.061790943145752\n",
      "5.97248649597168\n",
      "5.8863325119018555\n",
      "5.803151607513428\n",
      "5.722788333892822\n",
      "5.645099639892578\n",
      "5.569950103759766\n",
      "5.497217178344727\n",
      "5.426784038543701\n",
      "5.358540058135986\n",
      "5.292379856109619\n",
      "5.228207588195801\n",
      "5.1659321784973145\n",
      "5.105472087860107\n",
      "5.046750545501709\n",
      "4.989702224731445\n",
      "4.93426513671875\n",
      "4.880383491516113\n",
      "4.828008651733398\n",
      "4.777098178863525\n",
      "4.7276129722595215\n",
      "4.6795172691345215\n",
      "4.632782459259033\n",
      "4.587381362915039\n",
      "4.543292045593262\n",
      "4.500494480133057\n",
      "4.458970069885254\n",
      "4.418703079223633\n",
      "4.379678249359131\n",
      "4.341881275177002\n",
      "4.305294513702393\n",
      "4.269901752471924\n",
      "4.235682964324951\n",
      "4.202615261077881\n",
      "4.170672416687012\n",
      "4.139827251434326\n",
      "4.11004638671875\n",
      "4.081294536590576\n",
      "4.053533554077148\n",
      "4.026722431182861\n",
      "4.000819206237793\n",
      "3.9757814407348633\n",
      "3.9515655040740967\n",
      "3.9281296730041504\n",
      "3.9054324626922607\n",
      "3.8834354877471924\n",
      "3.862100124359131\n",
      "3.841392755508423\n",
      "3.8212811946868896\n",
      "3.8017354011535645\n",
      "3.782728433609009\n",
      "3.7642338275909424\n",
      "3.7462308406829834\n",
      "3.728696823120117\n",
      "3.7116124629974365\n",
      "3.694960355758667\n",
      "3.6787240505218506\n",
      "3.662888288497925\n",
      "3.6474387645721436\n",
      "3.632362127304077\n",
      "3.6176466941833496\n",
      "3.6032798290252686\n",
      "3.589250326156616\n",
      "3.5755486488342285\n",
      "3.5621633529663086\n",
      "3.5490856170654297\n",
      "3.5363059043884277\n",
      "3.5238146781921387\n",
      "3.5116043090820312\n",
      "3.4996652603149414\n",
      "3.487990617752075\n",
      "3.4765708446502686\n",
      "3.465399980545044\n",
      "3.4544692039489746\n",
      "3.443772077560425\n",
      "3.4333014488220215\n",
      "3.423050880432129\n",
      "3.413013219833374\n",
      "3.4031822681427\n",
      "3.393552541732788\n",
      "3.384117841720581\n",
      "3.3748726844787598\n",
      "3.3658101558685303\n",
      "3.3569273948669434\n",
      "3.348217725753784\n",
      "3.33967661857605\n",
      "3.3312995433807373\n"
     ]
    },
    {
     "ename": "KeyboardInterrupt",
     "evalue": "",
     "output_type": "error",
     "traceback": [
      "\u001b[0;31m---------------------------------------------------------------------------\u001b[0m",
      "\u001b[0;31mKeyboardInterrupt\u001b[0m                         Traceback (most recent call last)",
      "Cell \u001b[0;32mIn[35], line 13\u001b[0m\n\u001b[1;32m     10\u001b[0m \u001b[38;5;28;01mfor\u001b[39;00m p \u001b[38;5;129;01min\u001b[39;00m parameters:\n\u001b[1;32m     11\u001b[0m     p\u001b[38;5;241m.\u001b[39mgrad \u001b[38;5;241m=\u001b[39m \u001b[38;5;28;01mNone\u001b[39;00m\n\u001b[0;32m---> 13\u001b[0m \u001b[43mloss\u001b[49m\u001b[38;5;241;43m.\u001b[39;49m\u001b[43mbackward\u001b[49m\u001b[43m(\u001b[49m\u001b[43m)\u001b[49m\n\u001b[1;32m     14\u001b[0m \u001b[38;5;28;01mfor\u001b[39;00m p \u001b[38;5;129;01min\u001b[39;00m parameters:\n\u001b[1;32m     15\u001b[0m     p\u001b[38;5;241m.\u001b[39mdata \u001b[38;5;241m+\u001b[39m\u001b[38;5;241m=\u001b[39m \u001b[38;5;241m-\u001b[39m \u001b[38;5;241m0.1\u001b[39m\u001b[38;5;241m*\u001b[39m p\u001b[38;5;241m.\u001b[39mgrad\n",
      "File \u001b[0;32m~/Notebooks/makemore/.venv/lib/python3.10/site-packages/torch/_tensor.py:581\u001b[0m, in \u001b[0;36mTensor.backward\u001b[0;34m(self, gradient, retain_graph, create_graph, inputs)\u001b[0m\n\u001b[1;32m    571\u001b[0m \u001b[38;5;28;01mif\u001b[39;00m has_torch_function_unary(\u001b[38;5;28mself\u001b[39m):\n\u001b[1;32m    572\u001b[0m     \u001b[38;5;28;01mreturn\u001b[39;00m handle_torch_function(\n\u001b[1;32m    573\u001b[0m         Tensor\u001b[38;5;241m.\u001b[39mbackward,\n\u001b[1;32m    574\u001b[0m         (\u001b[38;5;28mself\u001b[39m,),\n\u001b[0;32m   (...)\u001b[0m\n\u001b[1;32m    579\u001b[0m         inputs\u001b[38;5;241m=\u001b[39minputs,\n\u001b[1;32m    580\u001b[0m     )\n\u001b[0;32m--> 581\u001b[0m \u001b[43mtorch\u001b[49m\u001b[38;5;241;43m.\u001b[39;49m\u001b[43mautograd\u001b[49m\u001b[38;5;241;43m.\u001b[39;49m\u001b[43mbackward\u001b[49m\u001b[43m(\u001b[49m\n\u001b[1;32m    582\u001b[0m \u001b[43m    \u001b[49m\u001b[38;5;28;43mself\u001b[39;49m\u001b[43m,\u001b[49m\u001b[43m \u001b[49m\u001b[43mgradient\u001b[49m\u001b[43m,\u001b[49m\u001b[43m \u001b[49m\u001b[43mretain_graph\u001b[49m\u001b[43m,\u001b[49m\u001b[43m \u001b[49m\u001b[43mcreate_graph\u001b[49m\u001b[43m,\u001b[49m\u001b[43m \u001b[49m\u001b[43minputs\u001b[49m\u001b[38;5;241;43m=\u001b[39;49m\u001b[43minputs\u001b[49m\n\u001b[1;32m    583\u001b[0m \u001b[43m\u001b[49m\u001b[43m)\u001b[49m\n",
      "File \u001b[0;32m~/Notebooks/makemore/.venv/lib/python3.10/site-packages/torch/autograd/__init__.py:347\u001b[0m, in \u001b[0;36mbackward\u001b[0;34m(tensors, grad_tensors, retain_graph, create_graph, grad_variables, inputs)\u001b[0m\n\u001b[1;32m    342\u001b[0m     retain_graph \u001b[38;5;241m=\u001b[39m create_graph\n\u001b[1;32m    344\u001b[0m \u001b[38;5;66;03m# The reason we repeat the same comment below is that\u001b[39;00m\n\u001b[1;32m    345\u001b[0m \u001b[38;5;66;03m# some Python versions print out the first line of a multi-line function\u001b[39;00m\n\u001b[1;32m    346\u001b[0m \u001b[38;5;66;03m# calls in the traceback and some print out the last line\u001b[39;00m\n\u001b[0;32m--> 347\u001b[0m \u001b[43m_engine_run_backward\u001b[49m\u001b[43m(\u001b[49m\n\u001b[1;32m    348\u001b[0m \u001b[43m    \u001b[49m\u001b[43mtensors\u001b[49m\u001b[43m,\u001b[49m\n\u001b[1;32m    349\u001b[0m \u001b[43m    \u001b[49m\u001b[43mgrad_tensors_\u001b[49m\u001b[43m,\u001b[49m\n\u001b[1;32m    350\u001b[0m \u001b[43m    \u001b[49m\u001b[43mretain_graph\u001b[49m\u001b[43m,\u001b[49m\n\u001b[1;32m    351\u001b[0m \u001b[43m    \u001b[49m\u001b[43mcreate_graph\u001b[49m\u001b[43m,\u001b[49m\n\u001b[1;32m    352\u001b[0m \u001b[43m    \u001b[49m\u001b[43minputs\u001b[49m\u001b[43m,\u001b[49m\n\u001b[1;32m    353\u001b[0m \u001b[43m    \u001b[49m\u001b[43mallow_unreachable\u001b[49m\u001b[38;5;241;43m=\u001b[39;49m\u001b[38;5;28;43;01mTrue\u001b[39;49;00m\u001b[43m,\u001b[49m\n\u001b[1;32m    354\u001b[0m \u001b[43m    \u001b[49m\u001b[43maccumulate_grad\u001b[49m\u001b[38;5;241;43m=\u001b[39;49m\u001b[38;5;28;43;01mTrue\u001b[39;49;00m\u001b[43m,\u001b[49m\n\u001b[1;32m    355\u001b[0m \u001b[43m\u001b[49m\u001b[43m)\u001b[49m\n",
      "File \u001b[0;32m~/Notebooks/makemore/.venv/lib/python3.10/site-packages/torch/autograd/graph.py:825\u001b[0m, in \u001b[0;36m_engine_run_backward\u001b[0;34m(t_outputs, *args, **kwargs)\u001b[0m\n\u001b[1;32m    823\u001b[0m     unregister_hooks \u001b[38;5;241m=\u001b[39m _register_logging_hooks_on_whole_graph(t_outputs)\n\u001b[1;32m    824\u001b[0m \u001b[38;5;28;01mtry\u001b[39;00m:\n\u001b[0;32m--> 825\u001b[0m     \u001b[38;5;28;01mreturn\u001b[39;00m \u001b[43mVariable\u001b[49m\u001b[38;5;241;43m.\u001b[39;49m\u001b[43m_execution_engine\u001b[49m\u001b[38;5;241;43m.\u001b[39;49m\u001b[43mrun_backward\u001b[49m\u001b[43m(\u001b[49m\u001b[43m  \u001b[49m\u001b[38;5;66;43;03m# Calls into the C++ engine to run the backward pass\u001b[39;49;00m\n\u001b[1;32m    826\u001b[0m \u001b[43m        \u001b[49m\u001b[43mt_outputs\u001b[49m\u001b[43m,\u001b[49m\u001b[43m \u001b[49m\u001b[38;5;241;43m*\u001b[39;49m\u001b[43margs\u001b[49m\u001b[43m,\u001b[49m\u001b[43m \u001b[49m\u001b[38;5;241;43m*\u001b[39;49m\u001b[38;5;241;43m*\u001b[39;49m\u001b[43mkwargs\u001b[49m\n\u001b[1;32m    827\u001b[0m \u001b[43m    \u001b[49m\u001b[43m)\u001b[49m  \u001b[38;5;66;03m# Calls into the C++ engine to run the backward pass\u001b[39;00m\n\u001b[1;32m    828\u001b[0m \u001b[38;5;28;01mfinally\u001b[39;00m:\n\u001b[1;32m    829\u001b[0m     \u001b[38;5;28;01mif\u001b[39;00m attach_logging_hooks:\n",
      "\u001b[0;31mKeyboardInterrupt\u001b[0m: "
     ]
    }
   ],
   "source": [
    "for _ in range(1000):\n",
    "    emb = C[X]\n",
    "    h = torch.tanh(emb.view(-1, 6) @ W1 + b1) # (32, 100)\n",
    "    logits = h @ W2 + b2\n",
    "    loss = F.cross_entropy(logits, Y)\n",
    "    print(loss.item())\n",
    "    # counts = logits.exp()\n",
    "    # prob = counts / counts.sum(1, keepdims=True)\n",
    "    # loss = -prob[torch.arange(32), Y].log().mean()\n",
    "    for p in parameters:\n",
    "        p.grad = None\n",
    "    \n",
    "    loss.backward()\n",
    "    for p in parameters:\n",
    "        p.data += - 0.1* p.grad"
   ]
  },
  {
   "cell_type": "code",
   "execution_count": 36,
   "id": "41a62380-3251-4ffe-9674-e769fc4dcebb",
   "metadata": {},
   "outputs": [
    {
     "data": {
      "text/plain": [
       "tensor(3.3313, grad_fn=<NllLossBackward0>)"
      ]
     },
     "execution_count": 36,
     "metadata": {},
     "output_type": "execute_result"
    }
   ],
   "source": [
    "loss"
   ]
  },
  {
   "cell_type": "code",
   "execution_count": 37,
   "id": "49c08401-1d57-4766-8b74-da2912137106",
   "metadata": {},
   "outputs": [
    {
     "data": {
      "text/plain": [
       "tensor([121474, 218933,   1319, 120893, 139206,  43897, 188536, 209138,  60329,\n",
       "         99390,  56948, 166735, 110160,  11713,  63707,  59678,  16616,  78035,\n",
       "        109231,  96034,  11528, 184708, 222157, 162386,   3146,  79316,   1965,\n",
       "         14994,   2343, 149032, 208428, 219446])"
      ]
     },
     "execution_count": 37,
     "metadata": {},
     "output_type": "execute_result"
    }
   ],
   "source": [
    "torch.randint(0, X.shape[0], (32,))"
   ]
  },
  {
   "cell_type": "code",
   "execution_count": 38,
   "id": "e3a714cd-3010-4146-9888-d1fe71f61402",
   "metadata": {},
   "outputs": [],
   "source": [
    "g = torch.Generator().manual_seed(2147483647) # for reproducibility\n",
    "C = torch.randn((27, 2), generator=g)\n",
    "W1 = torch.randn((6, 100), generator=g)\n",
    "b1 = torch.randn(100, generator=g)\n",
    "W2 = torch.randn((100, 27), generator=g)\n",
    "b2 = torch.randn(27, generator=g)\n",
    "parameters = C, W1, b1, W2, b2, "
   ]
  },
  {
   "cell_type": "code",
   "execution_count": 39,
   "id": "08cedeb4-edac-4836-898e-724689de1a66",
   "metadata": {},
   "outputs": [],
   "source": [
    "for p in parameters:\n",
    "    p.requires_grad = True "
   ]
  },
  {
   "cell_type": "code",
   "execution_count": 40,
   "id": "6b42d2b2-d930-4e2b-bb7a-2009b64df30c",
   "metadata": {},
   "outputs": [],
   "source": [
    "lre = torch.linspace(-2, 0, 1000)\n",
    "lrs = 10**lre"
   ]
  },
  {
   "cell_type": "code",
   "execution_count": 41,
   "id": "ba333fe2-7a78-4742-80dc-9d99d30749db",
   "metadata": {
    "scrolled": true
   },
   "outputs": [],
   "source": [
    "lri = []\n",
    "lossi = []\n",
    "\n",
    "for i in range(1000):\n",
    "    # minibatching\n",
    "    ix = torch.randint(0, X.shape[0], (32, ))\n",
    "\n",
    "    # forward pass\n",
    "    emb = C[X[ix]]\n",
    "    h = torch.tanh(emb.view(-1, 6) @ W1 + b1) # (32, 100)\n",
    "    logits = h @ W2 + b2\n",
    "    loss = F.cross_entropy(logits, Y[ix])\n",
    "    # print(loss.item())\n",
    "    # counts = logits.exp()\n",
    "    # prob = counts / counts.sum(1, keepdims=True)\n",
    "    # loss = -prob[torch.arange(32), Y].log().mean()\n",
    "    # backward pass\n",
    "    for p in parameters:\n",
    "        p.grad = None\n",
    "    \n",
    "    loss.backward()\n",
    "\n",
    "    lr = lrs[i]\n",
    "    for p in parameters:\n",
    "        p.data += -lr* p.grad\n",
    "\n",
    "    lri.append(lre[i])\n",
    "    lossi.append(loss.item())"
   ]
  },
  {
   "cell_type": "code",
   "execution_count": 42,
   "id": "ad652822-dc80-463b-84d6-5861f558cce0",
   "metadata": {},
   "outputs": [
    {
     "data": {
      "text/plain": [
       "[<matplotlib.lines.Line2D at 0x10eb1b790>]"
      ]
     },
     "execution_count": 42,
     "metadata": {},
     "output_type": "execute_result"
    },
    {
     "data": {
      "image/png": "[encoded data removed]",
      "text/plain": [
       "<Figure size 640x480 with 1 Axes>"
      ]
     },
     "metadata": {},
     "output_type": "display_data"
    }
   ],
   "source": [
    "plt.plot(lri, lossi)"
   ]
  },
  {
   "cell_type": "code",
   "execution_count": 43,
   "id": "4e3889d5-627d-46c8-9aee-d8e95301a464",
   "metadata": {},
   "outputs": [
    {
     "data": {
      "text/plain": [
       "6.3194146156311035"
      ]
     },
     "execution_count": 43,
     "metadata": {},
     "output_type": "execute_result"
    }
   ],
   "source": [
    "emb = C[X]\n",
    "h = torch.tanh(emb.view(-1, 6) @ W1 + b1) # (32, 100)\n",
    "logits = h @ W2 + b2\n",
    "loss = F.cross_entropy(logits, Y)\n",
    "loss.item()"
   ]
  },
  {
   "cell_type": "code",
   "execution_count": 44,
   "id": "c075cd68-46f5-4610-9154-f9a3b14d4caf",
   "metadata": {},
   "outputs": [
    {
     "data": {
      "text/plain": [
       "3481"
      ]
     },
     "execution_count": 44,
     "metadata": {},
     "output_type": "execute_result"
    }
   ],
   "source": [
    "sum(p.nelement() for p in parameters)"
   ]
  },
  {
   "cell_type": "code",
   "execution_count": 45,
   "id": "fbc3b6ab-db78-4408-a98a-842131a166ca",
   "metadata": {},
   "outputs": [],
   "source": [
    "#train, dev/validation , test split --> 80,  10,  10"
   ]
  },
  {
   "cell_type": "markdown",
   "id": "4514ff4a-5473-4b2f-a2bf-7df11c781156",
   "metadata": {},
   "source": [
    "[Resume from here](https://youtu.be/TCH_1BHY58I?t=3340)"
   ]
  },
  {
   "cell_type": "markdown",
   "id": "2c093b2b-4bfc-47ad-a4fd-b071e578dfd0",
   "metadata": {},
   "source": [
    "## Understanding Splitting data and training it."
   ]
  },
  {
   "cell_type": "code",
   "execution_count": 46,
   "id": "473894d5-9dac-4401-9625-fb30cb75cfab",
   "metadata": {},
   "outputs": [
    {
     "name": "stdout",
     "output_type": "stream",
     "text": [
      "torch.Size([182359, 3]) torch.Size([182359])\n",
      "torch.Size([22793, 3]) torch.Size([22793])\n",
      "torch.Size([22994, 3]) torch.Size([22994])\n"
     ]
    }
   ],
   "source": [
    "def build_dataset(words):\n",
    "    block_size = 3\n",
    "    X, Y = [], []\n",
    "\n",
    "    for w in words:\n",
    "\n",
    "        context = [0] * block_size\n",
    "        for ch in w + '.':\n",
    "            ix = stoi[ch]\n",
    "            X.append(context)\n",
    "            Y.append(ix)\n",
    "            context = context[1:] + [ix]\n",
    "    X = torch.tensor(X)\n",
    "    Y = torch.tensor(Y)\n",
    "    print(X.shape, Y.shape)\n",
    "    return X, Y\n",
    "\n",
    "import random\n",
    "\n",
    "random.seed(4)\n",
    "random.shuffle(words)\n",
    "\n",
    "n1 = int(0.8*len(words)) #80% of words\n",
    "n2 = int(0.9*len(words)) #90% of words\n",
    "\n",
    "Xtr, Ytr = build_dataset(words[:n1])\n",
    "Xdev, Ydev = build_dataset(words[n1:n2])\n",
    "Xte, Yte = build_dataset(words[n2:])"
   ]
  },
  {
   "cell_type": "code",
   "execution_count": 47,
   "id": "6d11bb2c-2a9e-4555-aa37-c1cf5f421cdb",
   "metadata": {},
   "outputs": [],
   "source": [
    "g = torch.Generator().manual_seed(2147483647) # for reproducibility\n",
    "C = torch.randn((27, 2), generator=g)\n",
    "W1 = torch.randn((6, 100), generator=g)\n",
    "b1 = torch.randn(100, generator=g)\n",
    "W2 = torch.randn((100, 27), generator=g)\n",
    "b2 = torch.randn(27, generator=g)\n",
    "parameters = C, W1, b1, W2, b2, "
   ]
  },
  {
   "cell_type": "code",
   "execution_count": 48,
   "id": "7c28b644-7058-4e1b-8302-ef8d7776d41f",
   "metadata": {},
   "outputs": [],
   "source": [
    "for p in parameters:\n",
    "    p.requires_grad = True "
   ]
  },
  {
   "cell_type": "code",
   "execution_count": 49,
   "id": "0303a9cb-cde0-42a4-87ac-83c1da6dbd84",
   "metadata": {},
   "outputs": [],
   "source": [
    "#training on training dataset\n",
    "\n",
    "for i in range(10000):\n",
    "    # minibatching\n",
    "    ix = torch.randint(0, Xtr.shape[0], (32, ))\n",
    "\n",
    "    # forward pass\n",
    "    emb = C[Xtr[ix]]\n",
    "    h = torch.tanh(emb.view(-1, 6) @ W1 + b1) # (32, 100)\n",
    "    logits = h @ W2 + b2\n",
    "    loss = F.cross_entropy(logits, Ytr[ix])\n",
    "    # print(loss.item())\n",
    "    # counts = logits.exp()\n",
    "    # prob = counts / counts.sum(1, keepdims=True)\n",
    "    # loss = -prob[torch.arange(32), Y].log().mean()\n",
    "    # backward pass\n",
    "    for p in parameters:\n",
    "        p.grad = None\n",
    "    \n",
    "    loss.backward()\n",
    "\n",
    "    for p in parameters:\n",
    "        p.data += -0.1* p.grad"
   ]
  },
  {
   "cell_type": "code",
   "execution_count": 50,
   "id": "3ea54dd3-9196-4719-a7fa-5290bcab307c",
   "metadata": {},
   "outputs": [
    {
     "data": {
      "text/plain": [
       "2.3582444190979004"
      ]
     },
     "execution_count": 50,
     "metadata": {},
     "output_type": "execute_result"
    }
   ],
   "source": [
    "loss.item()"
   ]
  },
  {
   "cell_type": "code",
   "execution_count": 51,
   "id": "d7262851-1d05-40a4-a041-774c0ea151d8",
   "metadata": {},
   "outputs": [
    {
     "data": {
      "text/plain": [
       "2.484541177749634"
      ]
     },
     "execution_count": 51,
     "metadata": {},
     "output_type": "execute_result"
    }
   ],
   "source": [
    "emb = C[Xdev]\n",
    "h = torch.tanh(emb.view(-1, 6) @ W1 + b1) # (32, 100)\n",
    "logits = h @ W2 + b2\n",
    "loss = F.cross_entropy(logits, Ydev)\n",
    "loss.item()"
   ]
  },
  {
   "cell_type": "code",
   "execution_count": 53,
   "id": "c32e6011-4b87-47f5-84b6-42eb8d7dcc17",
   "metadata": {},
   "outputs": [
    {
     "data": {
      "text/plain": [
       "2.4784421920776367"
      ]
     },
     "execution_count": 53,
     "metadata": {},
     "output_type": "execute_result"
    }
   ],
   "source": [
    "emb = C[Xtr]\n",
    "h = torch.tanh(emb.view(-1, 6) @ W1 + b1) # (32, 100)\n",
    "logits = h @ W2 + b2\n",
    "loss = F.cross_entropy(logits, Ytr)\n",
    "loss.item()"
   ]
  },
  {
   "cell_type": "code",
   "execution_count": 54,
   "id": "0bbe19fe-a7a4-46a6-97dc-f45919f1df62",
   "metadata": {},
   "outputs": [
    {
     "data": {
      "text/plain": [
       "3481"
      ]
     },
     "execution_count": 54,
     "metadata": {},
     "output_type": "execute_result"
    }
   ],
   "source": [
    "sum(p.nelement() for p in parameters)"
   ]
  },
  {
   "cell_type": "markdown",
   "id": "29d68b05-3015-484e-8573-f196dc4e3e99",
   "metadata": {},
   "source": [
    "## Scaling up the size of the Neural Network so that it can learn"
   ]
  },
  {
   "cell_type": "code",
   "execution_count": 55,
   "id": "45fbbd99-e67c-4fbd-ad24-265c23f7a67f",
   "metadata": {},
   "outputs": [],
   "source": [
    "g = torch.Generator().manual_seed(2147483647) # for reproducibility\n",
    "C = torch.randn((27, 2), generator=g)\n",
    "W1 = torch.randn((6, 300), generator=g)\n",
    "b1 = torch.randn(300, generator=g)\n",
    "W2 = torch.randn((300, 27), generator=g)\n",
    "b2 = torch.randn(27, generator=g)\n",
    "parameters = C, W1, b1, W2, b2,"
   ]
  },
  {
   "cell_type": "code",
   "execution_count": 56,
   "id": "66db2706-6ad5-46e6-893a-518100495615",
   "metadata": {},
   "outputs": [
    {
     "data": {
      "text/plain": [
       "10281"
      ]
     },
     "execution_count": 56,
     "metadata": {},
     "output_type": "execute_result"
    }
   ],
   "source": [
    "sum(p.nelement() for p in parameters)"
   ]
  },
  {
   "cell_type": "code",
   "execution_count": 57,
   "id": "fba58f9b-2d49-4935-8b11-02faaa5339d1",
   "metadata": {},
   "outputs": [],
   "source": [
    "lre = torch.linspace(-3, 0, 1000)\n",
    "lrs = 10 ** lre"
   ]
  },
  {
   "cell_type": "code",
   "execution_count": 58,
   "id": "66993c29-d07e-4ee9-bb17-82b27882f857",
   "metadata": {},
   "outputs": [],
   "source": [
    "for p in parameters:\n",
    "    p.requires_grad = True "
   ]
  },
  {
   "cell_type": "code",
   "execution_count": 59,
   "id": "7dcb2ed0-39db-4b40-963e-d6c2188e4a52",
   "metadata": {},
   "outputs": [],
   "source": [
    "#training on training dataset\n",
    "\n",
    "lri = []\n",
    "lossi = []\n",
    "stepi = []\n",
    "\n",
    "for i in range(10000):\n",
    "    # minibatching\n",
    "    ix = torch.randint(0, Xtr.shape[0], (32, ))\n",
    "\n",
    "    # forward pass\n",
    "    emb = C[Xtr[ix]]\n",
    "    h = torch.tanh(emb.view(-1, 6) @ W1 + b1) # (32, 100)\n",
    "    logits = h @ W2 + b2\n",
    "    loss = F.cross_entropy(logits, Ytr[ix])\n",
    "    # print(loss.item())\n",
    "    # counts = logits.exp()\n",
    "    # prob = counts / counts.sum(1, keepdims=True)\n",
    "    # loss = -prob[torch.arange(32), Y].log().mean()\n",
    "    # backward pass\n",
    "    for p in parameters:\n",
    "        p.grad = None\n",
    "        \n",
    "    \n",
    "    loss.backward()\n",
    "\n",
    "    lr = 0.1\n",
    "    for p in parameters:\n",
    "        p.data += -lr* p.grad\n",
    "    stepi.append(i)\n",
    "    lossi.append(loss.item())"
   ]
  },
  {
   "cell_type": "code",
   "execution_count": 60,
   "id": "5b14c2a6-dc76-437a-ac7b-98904e85fcda",
   "metadata": {},
   "outputs": [
    {
     "data": {
      "text/plain": [
       "[<matplotlib.lines.Line2D at 0x10eb3a4d0>]"
      ]
     },
     "execution_count": 60,
     "metadata": {},
     "output_type": "execute_result"
    },
    {
     "data": {
      "image/png": "[encoded data removed]",
      "text/plain": [
       "<Figure size 640x480 with 1 Axes>"
      ]
     },
     "metadata": {},
     "output_type": "display_data"
    }
   ],
   "source": [
    "plt.plot(stepi, lossi)"
   ]
  },
  {
   "cell_type": "code",
   "execution_count": 61,
   "id": "dcacf2b2-5c5e-4910-94f6-d299a15c7e1d",
   "metadata": {},
   "outputs": [
    {
     "data": {
      "text/plain": [
       "2.6356451511383057"
      ]
     },
     "execution_count": 61,
     "metadata": {},
     "output_type": "execute_result"
    }
   ],
   "source": [
    "emb = C[Xtr]\n",
    "h = torch.tanh(emb.view(-1, 6) @ W1 + b1) # (32, 100)\n",
    "logits = h @ W2 + b2\n",
    "loss = F.cross_entropy(logits, Ytr)\n",
    "loss.item()"
   ]
  },
  {
   "cell_type": "code",
   "execution_count": 62,
   "id": "d9426f65-2f23-4a44-ae80-555611503e36",
   "metadata": {},
   "outputs": [
    {
     "data": {
      "text/plain": [
       "2.6438181400299072"
      ]
     },
     "execution_count": 62,
     "metadata": {},
     "output_type": "execute_result"
    }
   ],
   "source": [
    "emb = C[Xdev]\n",
    "h = torch.tanh(emb.view(-1, 6) @ W1 + b1) # (32, 100)\n",
    "logits = h @ W2 + b2\n",
    "loss = F.cross_entropy(logits, Ydev)\n",
    "loss.item()"
   ]
  },
  {
   "cell_type": "markdown",
   "id": "b65a5f42-f2d6-4336-a877-6274efb85037",
   "metadata": {},
   "source": [
    "[Resume here](https://youtu.be/TCH_1BHY58I?t=3891)"
   ]
  },
  {
   "cell_type": "code",
   "execution_count": 63,
   "id": "4e707056-e5a4-4c18-8884-5f8197baee8b",
   "metadata": {
    "scrolled": true
   },
   "outputs": [
    {
     "data": {
      "image/png": "[encoded data removed]",
      "text/plain": [
       "<Figure size 800x800 with 1 Axes>"
      ]
     },
     "metadata": {},
     "output_type": "display_data"
    }
   ],
   "source": [
    "plt.figure(figsize=(8, 8))\n",
    "plt.scatter(C[:, 0].data, C[:, 1].data, s=200)\n",
    "for i in range(C.shape[0]):\n",
    "    plt.text(C[i, 0].item(), C[i, 1].item(), itos[i], ha='center', va='center', color='white')\n",
    "plt.grid('minor')"
   ]
  },
  {
   "cell_type": "markdown",
   "id": "82de8dd7-7f10-45be-829a-81142a709ad7",
   "metadata": {},
   "source": [
    "# Updating the dimensions of the neural network"
   ]
  },
  {
   "cell_type": "code",
   "execution_count": 64,
   "id": "ae583aec-2e72-49c0-b8cb-d5a3f5120460",
   "metadata": {},
   "outputs": [],
   "source": [
    "g = torch.Generator().manual_seed(2147483647) # for reproducibility\n",
    "C = torch.randn((27, 10), generator=g) # updating the dimensions of the embedding\n",
    "W1 = torch.randn((30, 200), generator=g)\n",
    "b1 = torch.randn(200, generator=g)\n",
    "W2 = torch.randn((200, 27), generator=g)\n",
    "b2 = torch.randn(27, generator=g)\n",
    "parameters = C, W1, b1, W2, b2,"
   ]
  },
  {
   "cell_type": "code",
   "execution_count": 65,
   "id": "059beab7-430a-4f69-8caf-2e237ac8003b",
   "metadata": {},
   "outputs": [
    {
     "data": {
      "text/plain": [
       "11897"
      ]
     },
     "execution_count": 65,
     "metadata": {},
     "output_type": "execute_result"
    }
   ],
   "source": [
    "sum(p.nelement() for p in parameters)"
   ]
  },
  {
   "cell_type": "code",
   "execution_count": 66,
   "id": "a560aef3-e361-4645-9ee0-f3ec9701f52f",
   "metadata": {},
   "outputs": [],
   "source": [
    "lre = torch.linspace(-3, 0, 1000)\n",
    "lrs = 10 ** lre"
   ]
  },
  {
   "cell_type": "code",
   "execution_count": 67,
   "id": "34f08789-8cf9-49ee-8138-f1e947d9b2a1",
   "metadata": {},
   "outputs": [],
   "source": [
    "for p in parameters:\n",
    "    p.requires_grad = True "
   ]
  },
  {
   "cell_type": "code",
   "execution_count": 68,
   "id": "cb3ddae4-0ac0-4cc7-9232-366241fac304",
   "metadata": {},
   "outputs": [],
   "source": [
    "lri = []\n",
    "lossi = []\n",
    "stepi = []"
   ]
  },
  {
   "cell_type": "code",
   "execution_count": 74,
   "id": "421eb964-3e05-46b8-affa-876eb1ac0d9b",
   "metadata": {},
   "outputs": [],
   "source": [
    "#training on training dataset\n",
    "\n",
    "for i in range(200000):\n",
    "    # minibatching\n",
    "    ix = torch.randint(0, Xtr.shape[0], (32, ))\n",
    "\n",
    "    # forward pass\n",
    "    emb = C[Xtr[ix]]\n",
    "    h = torch.tanh(emb.view(-1, 30) @ W1 + b1) # (32, 100)\n",
    "    logits = h @ W2 + b2\n",
    "    loss = F.cross_entropy(logits, Ytr[ix])\n",
    "    # print(loss.item())\n",
    "    # counts = logits.exp()\n",
    "    # prob = counts / counts.sum(1, keepdims=True)\n",
    "    # loss = -prob[torch.arange(32), Y].log().mean()\n",
    "    # backward pass\n",
    "    for p in parameters:\n",
    "        p.grad = None\n",
    "        \n",
    "    \n",
    "    loss.backward()\n",
    "\n",
    "    lr = 0.1 if i < 100000 else 0.01\n",
    "    for p in parameters:\n",
    "        p.data += -lr* p.grad\n",
    "    stepi.append(i)\n",
    "    lossi.append(loss.log10().item())"
   ]
  },
  {
   "cell_type": "code",
   "execution_count": 75,
   "id": "a49be840-c4b1-4806-ba53-2b47f01dbe67",
   "metadata": {},
   "outputs": [
    {
     "data": {
      "text/plain": [
       "[<matplotlib.lines.Line2D at 0x13832fb50>]"
      ]
     },
     "execution_count": 75,
     "metadata": {},
     "output_type": "execute_result"
    },
    {
     "data": {
      "image/png": "[encoded data removed]",
      "text/plain": [
       "<Figure size 640x480 with 1 Axes>"
      ]
     },
     "metadata": {},
     "output_type": "display_data"
    }
   ],
   "source": [
    "plt.plot(stepi, lossi)"
   ]
  },
  {
   "cell_type": "code",
   "execution_count": 76,
   "id": "e40a081c-a402-4960-bbac-5ade645584e8",
   "metadata": {},
   "outputs": [
    {
     "data": {
      "text/plain": [
       "2.0717427730560303"
      ]
     },
     "execution_count": 76,
     "metadata": {},
     "output_type": "execute_result"
    }
   ],
   "source": [
    "emb = C[Xtr]\n",
    "h = torch.tanh(emb.view(-1, 30) @ W1 + b1) # (32, 100)\n",
    "logits = h @ W2 + b2\n",
    "loss = F.cross_entropy(logits, Ytr)\n",
    "loss.item()"
   ]
  },
  {
   "cell_type": "code",
   "execution_count": 77,
   "id": "21cf73ae-bc92-49a1-a71d-460384e73f3f",
   "metadata": {},
   "outputs": [
    {
     "data": {
      "text/plain": [
       "2.1320571899414062"
      ]
     },
     "execution_count": 77,
     "metadata": {},
     "output_type": "execute_result"
    }
   ],
   "source": [
    "emb = C[Xdev]\n",
    "h = torch.tanh(emb.view(-1, 30) @ W1 + b1) # (32, 100)\n",
    "logits = h @ W2 + b2\n",
    "loss = F.cross_entropy(logits, Ydev)\n",
    "loss.item()"
   ]
  },
  {
   "cell_type": "code",
   "execution_count": 78,
   "id": "d989f814-95c9-4bed-acc4-a34bd01a3405",
   "metadata": {},
   "outputs": [
    {
     "data": {
      "text/plain": [
       "2.1434507369995117"
      ]
     },
     "execution_count": 78,
     "metadata": {},
     "output_type": "execute_result"
    }
   ],
   "source": [
    "emb = C[Xte]\n",
    "h = torch.tanh(emb.view(-1, 30) @ W1 + b1) # (32, 100)\n",
    "logits = h @ W2 + b2\n",
    "loss = F.cross_entropy(logits, Yte)\n",
    "loss.item()"
   ]
  },
  {
   "cell_type": "code",
   "execution_count": 73,
   "id": "22d93d8d-7517-45c1-bd4b-bf9fea58514e",
   "metadata": {},
   "outputs": [
    {
     "data": {
      "image/png": "[encoded data removed]",
      "text/plain": [
       "<Figure size 800x800 with 1 Axes>"
      ]
     },
     "metadata": {},
     "output_type": "display_data"
    }
   ],
   "source": [
    "plt.figure(figsize=(8, 8))\n",
    "plt.scatter(C[:, 0].data, C[:, 1].data, s=200)\n",
    "for i in range(C.shape[0]):\n",
    "    plt.text(C[i, 0].item(), C[i, 1].item(), itos[i], ha='center', va='center', color='white')\n",
    "plt.grid('minor')"
   ]
  },
  {
   "cell_type": "markdown",
   "id": "71e81213-c284-47ab-a750-aa04c7f16b83",
   "metadata": {},
   "source": [
    "# Sampling data"
   ]
  },
  {
   "cell_type": "code",
   "execution_count": 79,
   "id": "9591080d-3551-43a1-959c-1f5a17db2f12",
   "metadata": {},
   "outputs": [
    {
     "name": "stdout",
     "output_type": "stream",
     "text": [
      "carmah.\n",
      "ambrilli.\n",
      "kimri.\n",
      "reity.\n",
      "skansh.\n",
      "emmahnee.\n",
      "amesara.\n",
      "areei.\n",
      "nellara.\n",
      "chaiir.\n"
     ]
    }
   ],
   "source": [
    "g = torch.Generator().manual_seed(2147483647 + 10)\n",
    "\n",
    "for _ in range(10):\n",
    "    \n",
    "    out = []\n",
    "    context = [0] * block_size # initialize with all ...\n",
    "    while True:\n",
    "      emb = C[torch.tensor([context])] # (1,block_size,d)\n",
    "      h = torch.tanh(emb.view(1, -1) @ W1 + b1)\n",
    "      logits = h @ W2 + b2\n",
    "      probs = F.softmax(logits, dim=1)\n",
    "      ix = torch.multinomial(probs, num_samples=1, generator=g).item()\n",
    "      context = context[1:] + [ix]\n",
    "      out.append(ix)\n",
    "      if ix == 0:\n",
    "        break\n",
    "    \n",
    "    print(''.join(itos[i] for i in out))"
   ]
  }
 ],
 "metadata": {
  "kernelspec": {
   "display_name": "Python 3 (ipykernel)",
   "language": "python",
   "name": "python3"
  },
  "language_info": {
   "codemirror_mode": {
    "name": "ipython",
    "version": 3
   },
   "file_extension": ".py",
   "mimetype": "text/x-python",
   "name": "python",
   "nbconvert_exporter": "python",
   "pygments_lexer": "ipython3",
   "version": "3.10.15"
  }
 },
 "nbformat": 4,
 "nbformat_minor": 5
}

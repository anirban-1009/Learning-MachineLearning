{
 "cells": [
  {
   "cell_type": "markdown",
   "id": "1626bd35-e68f-435b-beb6-ce72bc41645a",
   "metadata": {},
   "source": [
    "[Paper Reference](https://www.jmlr.org/papers/volume3/bengio03a/bengio03a.pdf)"
   ]
  },
  {
   "cell_type": "code",
   "execution_count": 1,
   "id": "31b1eadc-d791-4205-b44c-620042e9ae93",
   "metadata": {},
   "outputs": [],
   "source": [
    "import torch\n",
    "import torch.nn.functional as F\n",
    "import matplotlib.pyplot as plt\n",
    "%matplotlib inline"
   ]
  },
  {
   "cell_type": "code",
   "execution_count": 2,
   "id": "98de280a-6b2f-492b-99ad-46aa03b8cd05",
   "metadata": {},
   "outputs": [
    {
     "data": {
      "text/plain": [
       "['emma', 'olivia', 'ava', 'isabella', 'sophia', 'charlotte', 'mia', 'amelia']"
      ]
     },
     "execution_count": 2,
     "metadata": {},
     "output_type": "execute_result"
    }
   ],
   "source": [
    "words = open('names.txt', 'r').read().splitlines()\n",
    "words[:8]"
   ]
  },
  {
   "cell_type": "code",
   "execution_count": 3,
   "id": "8e0d1df0-10f3-4978-8d41-96da44cab9fc",
   "metadata": {},
   "outputs": [
    {
     "data": {
      "text/plain": [
       "32033"
      ]
     },
     "execution_count": 3,
     "metadata": {},
     "output_type": "execute_result"
    }
   ],
   "source": [
    "len(words)"
   ]
  },
  {
   "cell_type": "code",
   "execution_count": 4,
   "id": "fb670f95-1f35-42e5-98df-975357eb779c",
   "metadata": {
    "scrolled": true
   },
   "outputs": [
    {
     "data": {
      "text/plain": [
       "{1: 'a',\n",
       " 2: 'b',\n",
       " 3: 'c',\n",
       " 4: 'd',\n",
       " 5: 'e',\n",
       " 6: 'f',\n",
       " 7: 'g',\n",
       " 8: 'h',\n",
       " 9: 'i',\n",
       " 10: 'j',\n",
       " 11: 'k',\n",
       " 12: 'l',\n",
       " 13: 'm',\n",
       " 14: 'n',\n",
       " 15: 'o',\n",
       " 16: 'p',\n",
       " 17: 'q',\n",
       " 18: 'r',\n",
       " 19: 's',\n",
       " 20: 't',\n",
       " 21: 'u',\n",
       " 22: 'v',\n",
       " 23: 'w',\n",
       " 24: 'x',\n",
       " 25: 'y',\n",
       " 26: 'z',\n",
       " 0: '.'}"
      ]
     },
     "execution_count": 4,
     "metadata": {},
     "output_type": "execute_result"
    }
   ],
   "source": [
    "chars = sorted(list(set(''.join(words))))\n",
    "stoi = {s: i for i, s in enumerate(chars, 1)}\n",
    "stoi['.'] = 0\n",
    "itos = {i: s for s, i in stoi.items()}\n",
    "itos"
   ]
  },
  {
   "cell_type": "code",
   "execution_count": 5,
   "id": "32198edc-8bce-4e23-9fa8-4a5670f197a8",
   "metadata": {},
   "outputs": [
    {
     "name": "stdout",
     "output_type": "stream",
     "text": [
      "emma\n",
      "... ----> e\n",
      "..e ----> m\n",
      ".em ----> m\n",
      "emm ----> a\n",
      "mma ----> .\n",
      "olivia\n",
      "... ----> o\n",
      "..o ----> l\n",
      ".ol ----> i\n",
      "oli ----> v\n",
      "liv ----> i\n",
      "ivi ----> a\n",
      "via ----> .\n",
      "ava\n",
      "... ----> a\n",
      "..a ----> v\n",
      ".av ----> a\n",
      "ava ----> .\n",
      "isabella\n",
      "... ----> i\n",
      "..i ----> s\n",
      ".is ----> a\n",
      "isa ----> b\n",
      "sab ----> e\n",
      "abe ----> l\n",
      "bel ----> l\n",
      "ell ----> a\n",
      "lla ----> .\n",
      "sophia\n",
      "... ----> s\n",
      "..s ----> o\n",
      ".so ----> p\n",
      "sop ----> h\n",
      "oph ----> i\n",
      "phi ----> a\n",
      "hia ----> .\n"
     ]
    }
   ],
   "source": [
    "# Building datasets\n",
    "block_size = 3\n",
    "X, Y = [], []\n",
    "for word in words[:5]:\n",
    "    print(word)\n",
    "    context = [0] * block_size\n",
    "    for ch in word + '.':\n",
    "        ix = stoi[ch]\n",
    "        X.append(context)\n",
    "        Y.append(ix)\n",
    "        print(''.join(itos[i] for i in context), '---->', itos[ix])\n",
    "        context = context[1:] + [ix]\n",
    "\n",
    "X = torch.tensor(X) # examples\n",
    "Y = torch.tensor(Y) # Labels"
   ]
  },
  {
   "cell_type": "code",
   "execution_count": 6,
   "id": "bdfe5c64-ed7a-4b6f-9f7b-2f8a7db8d0e1",
   "metadata": {},
   "outputs": [
    {
     "data": {
      "text/plain": [
       "(torch.Size([32, 3]), torch.int64, torch.Size([32]), torch.int64)"
      ]
     },
     "execution_count": 6,
     "metadata": {},
     "output_type": "execute_result"
    }
   ],
   "source": [
    "X.shape, X.dtype, Y.shape, Y.dtype"
   ]
  },
  {
   "cell_type": "markdown",
   "id": "aceabfda-bb49-4d6b-a3a5-b7b211c4c16a",
   "metadata": {},
   "source": [
    "`X` are examples, and the `Y` are the labels"
   ]
  },
  {
   "cell_type": "code",
   "execution_count": 7,
   "id": "72235489-c0f2-440a-b0b0-386fd6df65aa",
   "metadata": {},
   "outputs": [],
   "source": [
    "C = torch.rand(27, 2) # lookup table"
   ]
  },
  {
   "cell_type": "code",
   "execution_count": 8,
   "id": "b5628bc2-0b61-45fc-94ac-ccbbe5f38573",
   "metadata": {},
   "outputs": [
    {
     "data": {
      "text/plain": [
       "tensor([0.6241, 0.0930])"
      ]
     },
     "execution_count": 8,
     "metadata": {},
     "output_type": "execute_result"
    }
   ],
   "source": [
    "C[5]"
   ]
  },
  {
   "cell_type": "code",
   "execution_count": 9,
   "id": "409ed78a-3758-4891-8007-cc10a9a5d438",
   "metadata": {},
   "outputs": [
    {
     "data": {
      "text/plain": [
       "tensor([0.6241, 0.0930])"
      ]
     },
     "execution_count": 9,
     "metadata": {},
     "output_type": "execute_result"
    }
   ],
   "source": [
    "F.one_hot(torch.tensor(5), num_classes=27).float() @ C # converting, the number to one_hot, then multiply with the Matrix to get the value"
   ]
  },
  {
   "cell_type": "code",
   "execution_count": 10,
   "id": "ea6be1d8-68ec-4ad6-9034-bd4a9307e87e",
   "metadata": {},
   "outputs": [
    {
     "data": {
      "text/plain": [
       "torch.Size([32, 3, 2])"
      ]
     },
     "execution_count": 10,
     "metadata": {},
     "output_type": "execute_result"
    }
   ],
   "source": [
    "emb = C[X] # mapping to a look up table\n",
    "emb.shape"
   ]
  },
  {
   "cell_type": "code",
   "execution_count": 11,
   "id": "2d4b2094-6b9c-44fb-8414-1b98166d02be",
   "metadata": {},
   "outputs": [],
   "source": [
    "W1 = torch.randn((6, 100)) # 3 x 2 = 6\n",
    "b1 = torch.randn(100)"
   ]
  },
  {
   "cell_type": "code",
   "execution_count": 12,
   "id": "bfa9996a-515b-4f42-880f-9f12ac2d8184",
   "metadata": {},
   "outputs": [
    {
     "data": {
      "text/plain": [
       "torch.Size([32, 6])"
      ]
     },
     "execution_count": 12,
     "metadata": {},
     "output_type": "execute_result"
    }
   ],
   "source": [
    "torch.cat([emb[:, 0, :], emb[:, 1, :], emb[:, 2, :]], 1).shape"
   ]
  },
  {
   "cell_type": "code",
   "execution_count": 13,
   "id": "e9769a08-c3ff-4450-b4ce-afe72aaa0bf5",
   "metadata": {
    "scrolled": true
   },
   "outputs": [
    {
     "data": {
      "text/plain": [
       "[tensor([[0.4078, 0.2866],\n",
       "         [0.4078, 0.2866],\n",
       "         [0.4078, 0.2866],\n",
       "         [0.6241, 0.0930],\n",
       "         [0.9623, 0.1863],\n",
       "         [0.4078, 0.2866],\n",
       "         [0.4078, 0.2866],\n",
       "         [0.4078, 0.2866],\n",
       "         [0.5498, 0.2820],\n",
       "         [0.8586, 0.3946],\n",
       "         [0.7895, 0.2352],\n",
       "         [0.1907, 0.6550],\n",
       "         [0.4078, 0.2866],\n",
       "         [0.4078, 0.2866],\n",
       "         [0.4078, 0.2866],\n",
       "         [0.1200, 0.9014],\n",
       "         [0.4078, 0.2866],\n",
       "         [0.4078, 0.2866],\n",
       "         [0.4078, 0.2866],\n",
       "         [0.7895, 0.2352],\n",
       "         [0.8140, 0.8377],\n",
       "         [0.1200, 0.9014],\n",
       "         [0.7275, 0.1998],\n",
       "         [0.6241, 0.0930],\n",
       "         [0.8586, 0.3946],\n",
       "         [0.4078, 0.2866],\n",
       "         [0.4078, 0.2866],\n",
       "         [0.4078, 0.2866],\n",
       "         [0.8140, 0.8377],\n",
       "         [0.5498, 0.2820],\n",
       "         [0.6504, 0.5814],\n",
       "         [0.7506, 0.1616]]),\n",
       " tensor([[0.4078, 0.2866],\n",
       "         [0.4078, 0.2866],\n",
       "         [0.6241, 0.0930],\n",
       "         [0.9623, 0.1863],\n",
       "         [0.9623, 0.1863],\n",
       "         [0.4078, 0.2866],\n",
       "         [0.4078, 0.2866],\n",
       "         [0.5498, 0.2820],\n",
       "         [0.8586, 0.3946],\n",
       "         [0.7895, 0.2352],\n",
       "         [0.1907, 0.6550],\n",
       "         [0.7895, 0.2352],\n",
       "         [0.4078, 0.2866],\n",
       "         [0.4078, 0.2866],\n",
       "         [0.1200, 0.9014],\n",
       "         [0.1907, 0.6550],\n",
       "         [0.4078, 0.2866],\n",
       "         [0.4078, 0.2866],\n",
       "         [0.7895, 0.2352],\n",
       "         [0.8140, 0.8377],\n",
       "         [0.1200, 0.9014],\n",
       "         [0.7275, 0.1998],\n",
       "         [0.6241, 0.0930],\n",
       "         [0.8586, 0.3946],\n",
       "         [0.8586, 0.3946],\n",
       "         [0.4078, 0.2866],\n",
       "         [0.4078, 0.2866],\n",
       "         [0.8140, 0.8377],\n",
       "         [0.5498, 0.2820],\n",
       "         [0.6504, 0.5814],\n",
       "         [0.7506, 0.1616],\n",
       "         [0.7895, 0.2352]]),\n",
       " tensor([[0.4078, 0.2866],\n",
       "         [0.6241, 0.0930],\n",
       "         [0.9623, 0.1863],\n",
       "         [0.9623, 0.1863],\n",
       "         [0.1200, 0.9014],\n",
       "         [0.4078, 0.2866],\n",
       "         [0.5498, 0.2820],\n",
       "         [0.8586, 0.3946],\n",
       "         [0.7895, 0.2352],\n",
       "         [0.1907, 0.6550],\n",
       "         [0.7895, 0.2352],\n",
       "         [0.1200, 0.9014],\n",
       "         [0.4078, 0.2866],\n",
       "         [0.1200, 0.9014],\n",
       "         [0.1907, 0.6550],\n",
       "         [0.1200, 0.9014],\n",
       "         [0.4078, 0.2866],\n",
       "         [0.7895, 0.2352],\n",
       "         [0.8140, 0.8377],\n",
       "         [0.1200, 0.9014],\n",
       "         [0.7275, 0.1998],\n",
       "         [0.6241, 0.0930],\n",
       "         [0.8586, 0.3946],\n",
       "         [0.8586, 0.3946],\n",
       "         [0.1200, 0.9014],\n",
       "         [0.4078, 0.2866],\n",
       "         [0.8140, 0.8377],\n",
       "         [0.5498, 0.2820],\n",
       "         [0.6504, 0.5814],\n",
       "         [0.7506, 0.1616],\n",
       "         [0.7895, 0.2352],\n",
       "         [0.1200, 0.9014]])]"
      ]
     },
     "execution_count": 13,
     "metadata": {},
     "output_type": "execute_result"
    }
   ],
   "source": [
    "[emb[:, 0, :], emb[:, 1, :], emb[:, 2, :]]"
   ]
  },
  {
   "cell_type": "code",
   "execution_count": 14,
   "id": "e548caee-366a-4364-9ec0-ea9e93adab38",
   "metadata": {},
   "outputs": [
    {
     "data": {
      "text/plain": [
       "torch.Size([32, 6])"
      ]
     },
     "execution_count": 14,
     "metadata": {},
     "output_type": "execute_result"
    }
   ],
   "source": [
    "torch.cat(torch.unbind(emb, 1), 1).shape"
   ]
  },
  {
   "cell_type": "markdown",
   "id": "17161b83-efe1-4a4b-aa4c-c1ae853a4141",
   "metadata": {},
   "source": [
    "[Resume from here](https://youtu.be/TCH_1BHY58I?t=1430)"
   ]
  },
  {
   "cell_type": "code",
   "execution_count": 21,
   "id": "3e6d5404-f1ed-4ec6-af29-430c87c73a1a",
   "metadata": {},
   "outputs": [],
   "source": [
    "a = torch.arange(18)"
   ]
  },
  {
   "cell_type": "code",
   "execution_count": 22,
   "id": "fe222866-7211-4653-ac3e-059e85500b09",
   "metadata": {},
   "outputs": [
    {
     "data": {
      "text/plain": [
       "tensor([ 0,  1,  2,  3,  4,  5,  6,  7,  8,  9, 10, 11, 12, 13, 14, 15, 16, 17])"
      ]
     },
     "execution_count": 22,
     "metadata": {},
     "output_type": "execute_result"
    }
   ],
   "source": [
    "a"
   ]
  },
  {
   "cell_type": "code",
   "execution_count": 23,
   "id": "e5dd550f-28dc-41f0-b0f8-0635c86935c4",
   "metadata": {},
   "outputs": [
    {
     "data": {
      "text/plain": [
       "tensor([[[ 0,  1],\n",
       "         [ 2,  3],\n",
       "         [ 4,  5]],\n",
       "\n",
       "        [[ 6,  7],\n",
       "         [ 8,  9],\n",
       "         [10, 11]],\n",
       "\n",
       "        [[12, 13],\n",
       "         [14, 15],\n",
       "         [16, 17]]])"
      ]
     },
     "execution_count": 23,
     "metadata": {},
     "output_type": "execute_result"
    }
   ],
   "source": [
    "a.view(3, 3, 2)"
   ]
  },
  {
   "cell_type": "markdown",
   "id": "10d54f8c-7f4a-4cee-9148-8acf93b000e7",
   "metadata": {},
   "source": [
    "[Reference on view](https://blog.ezyang.com/2019/05/pytorch-internals/)"
   ]
  },
  {
   "cell_type": "code",
   "execution_count": 43,
   "id": "c7c099bb-27db-4012-ae5b-6e46e47f2a0a",
   "metadata": {},
   "outputs": [
    {
     "data": {
      "text/plain": [
       "torch.Size([32, 6])"
      ]
     },
     "execution_count": 43,
     "metadata": {},
     "output_type": "execute_result"
    }
   ],
   "source": [
    "emb.view(32, 6).shape"
   ]
  },
  {
   "cell_type": "code",
   "execution_count": 45,
   "id": "fcc9db0a-e7c9-4e18-aa9c-7d92e0f54a7d",
   "metadata": {},
   "outputs": [
    {
     "data": {
      "text/plain": [
       "torch.Size([32, 3, 2])"
      ]
     },
     "execution_count": 45,
     "metadata": {},
     "output_type": "execute_result"
    }
   ],
   "source": [
    "emb.shape"
   ]
  },
  {
   "cell_type": "markdown",
   "id": "b061d837-17f8-4e40-ac3d-ff539d241536",
   "metadata": {},
   "source": [
    "### Understanding `torch.tensor.view`"
   ]
  },
  {
   "cell_type": "code",
   "execution_count": 51,
   "id": "c1838af0-dd57-4a80-afdd-1ff4cbcc5d7f",
   "metadata": {},
   "outputs": [
    {
     "data": {
      "text/plain": [
       "torch.Size([3, 3, 2])"
      ]
     },
     "execution_count": 51,
     "metadata": {},
     "output_type": "execute_result"
    }
   ],
   "source": [
    "tensor = torch.tensor([[[1, 2], [3, 4], [5, 6]],\n",
    "                       [[7, 8], [9, 10], [11, 12]],\n",
    "                       [[13, 14], [15, 16], [17, 18]]])\n",
    "tensor.shape"
   ]
  },
  {
   "cell_type": "code",
   "execution_count": 58,
   "id": "1db56995-57c4-4a41-9244-6a6d20526d64",
   "metadata": {},
   "outputs": [
    {
     "data": {
      "text/plain": [
       "tensor([[[ 1,  2]],\n",
       "\n",
       "        [[ 3,  4]],\n",
       "\n",
       "        [[ 5,  6]],\n",
       "\n",
       "        [[ 7,  8]],\n",
       "\n",
       "        [[ 9, 10]],\n",
       "\n",
       "        [[11, 12]],\n",
       "\n",
       "        [[13, 14]],\n",
       "\n",
       "        [[15, 16]],\n",
       "\n",
       "        [[17, 18]]])"
      ]
     },
     "execution_count": 58,
     "metadata": {},
     "output_type": "execute_result"
    }
   ],
   "source": [
    "tensor.view(9, 1, 2)"
   ]
  },
  {
   "cell_type": "code",
   "execution_count": 63,
   "id": "80cc4b53-4255-4698-ae9d-c9c165a74218",
   "metadata": {},
   "outputs": [],
   "source": [
    "h = torch.tanh(emb.view(-1, 6) @ W1 + b1)"
   ]
  },
  {
   "cell_type": "code",
   "execution_count": 70,
   "id": "8664bc54-f239-4804-9cc1-9b5849037ebb",
   "metadata": {},
   "outputs": [
    {
     "data": {
      "text/plain": [
       "torch.Size([32, 100])"
      ]
     },
     "execution_count": 70,
     "metadata": {},
     "output_type": "execute_result"
    }
   ],
   "source": [
    "h.shape"
   ]
  },
  {
   "cell_type": "code",
   "execution_count": 76,
   "id": "3b21c38a-40a7-44af-a4cd-01a8f776b68c",
   "metadata": {},
   "outputs": [],
   "source": [
    "W2 = torch.randn((100, 27))\n",
    "b2 = torch.randn(27)"
   ]
  },
  {
   "cell_type": "code",
   "execution_count": 71,
   "id": "efab2648-e5d4-48d7-8aad-4b17dcace2ab",
   "metadata": {},
   "outputs": [
    {
     "data": {
      "text/plain": [
       "torch.Size([100, 27])"
      ]
     },
     "execution_count": 71,
     "metadata": {},
     "output_type": "execute_result"
    }
   ],
   "source": [
    "W2.shape"
   ]
  },
  {
   "cell_type": "code",
   "execution_count": 81,
   "id": "0bf2ea71-8be4-40ba-bd2a-cc3cd7a756f0",
   "metadata": {},
   "outputs": [
    {
     "data": {
      "text/plain": [
       "torch.Size([32, 27])"
      ]
     },
     "execution_count": 81,
     "metadata": {},
     "output_type": "execute_result"
    }
   ],
   "source": [
    "logits = h @ W2 + b2\n",
    "logits.shape"
   ]
  },
  {
   "cell_type": "code",
   "execution_count": 83,
   "id": "227ec4a9-43fe-4904-bd70-3af0965192d9",
   "metadata": {},
   "outputs": [],
   "source": [
    "counts = logits.exp()"
   ]
  },
  {
   "cell_type": "code",
   "execution_count": 84,
   "id": "6f73511e-f02d-43f3-9c7a-6bb2d06545be",
   "metadata": {},
   "outputs": [],
   "source": [
    "prob = counts / counts.sum(1, keepdims=True)"
   ]
  },
  {
   "cell_type": "code",
   "execution_count": 85,
   "id": "8df08808-3349-4527-91fb-976dc8163c56",
   "metadata": {},
   "outputs": [
    {
     "data": {
      "text/plain": [
       "torch.Size([32, 27])"
      ]
     },
     "execution_count": 85,
     "metadata": {},
     "output_type": "execute_result"
    }
   ],
   "source": [
    "prob.shape"
   ]
  },
  {
   "cell_type": "code",
   "execution_count": 86,
   "id": "cc84eaa4-010b-4470-a943-5a93bdea2cb4",
   "metadata": {},
   "outputs": [
    {
     "data": {
      "text/plain": [
       "tensor([9.9933e-01, 1.7867e-12, 7.5371e-12, 1.3108e-04, 8.1031e-08, 8.5639e-12,\n",
       "        5.5566e-08, 6.5239e-13, 1.1142e-06, 1.0033e-14, 1.7782e-06, 4.9662e-08,\n",
       "        3.6511e-06, 4.8122e-07, 3.8690e-07, 8.7253e-09, 2.0429e-12, 1.1279e-06,\n",
       "        1.8466e-03, 6.0728e-07, 9.9999e-01, 8.9751e-05, 7.4862e-06, 1.1481e-04,\n",
       "        1.4722e-08, 1.6829e-06, 1.8020e-10, 6.2329e-13, 1.0148e-04, 7.3568e-15,\n",
       "        1.2633e-05, 1.7157e-08])"
      ]
     },
     "execution_count": 86,
     "metadata": {},
     "output_type": "execute_result"
    }
   ],
   "source": [
    "prob[torch.arange(32), Y]"
   ]
  },
  {
   "cell_type": "code",
   "execution_count": 93,
   "id": "f209d576-1ec5-44aa-994b-d3b40fb56203",
   "metadata": {},
   "outputs": [],
   "source": [
    "loss = -prob[torch.arange(32), Y].log().mean()"
   ]
  },
  {
   "cell_type": "markdown",
   "id": "e047e4bd-21dc-4233-bd12-aec5f89062de",
   "metadata": {},
   "source": [
    "[Resume from here](https://youtu.be/TCH_1BHY58I?t=1947)"
   ]
  }
 ],
 "metadata": {
  "kernelspec": {
   "display_name": "Python 3 (ipykernel)",
   "language": "python",
   "name": "python3"
  },
  "language_info": {
   "codemirror_mode": {
    "name": "ipython",
    "version": 3
   },
   "file_extension": ".py",
   "mimetype": "text/x-python",
   "name": "python",
   "nbconvert_exporter": "python",
   "pygments_lexer": "ipython3",
   "version": "3.10.15"
  }
 },
 "nbformat": 4,
 "nbformat_minor": 5
}

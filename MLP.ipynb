{
 "cells": [
  {
   "cell_type": "markdown",
   "id": "1626bd35-e68f-435b-beb6-ce72bc41645a",
   "metadata": {},
   "source": [
    "[Paper Reference](https://www.jmlr.org/papers/volume3/bengio03a/bengio03a.pdf)"
   ]
  },
  {
   "cell_type": "code",
   "execution_count": 2,
   "id": "31b1eadc-d791-4205-b44c-620042e9ae93",
   "metadata": {},
   "outputs": [],
   "source": [
    "import torch\n",
    "import torch.nn.functional as F\n",
    "import matplotlib.pyplot as plt\n",
    "%matplotlib inline"
   ]
  },
  {
   "cell_type": "code",
   "execution_count": 3,
   "id": "98de280a-6b2f-492b-99ad-46aa03b8cd05",
   "metadata": {},
   "outputs": [
    {
     "data": {
      "text/plain": [
       "['emma', 'olivia', 'ava', 'isabella', 'sophia', 'charlotte', 'mia', 'amelia']"
      ]
     },
     "execution_count": 3,
     "metadata": {},
     "output_type": "execute_result"
    }
   ],
   "source": [
    "words = open('names.txt', 'r').read().splitlines()\n",
    "words[:8]"
   ]
  },
  {
   "cell_type": "code",
   "execution_count": 4,
   "id": "8e0d1df0-10f3-4978-8d41-96da44cab9fc",
   "metadata": {},
   "outputs": [
    {
     "data": {
      "text/plain": [
       "32033"
      ]
     },
     "execution_count": 4,
     "metadata": {},
     "output_type": "execute_result"
    }
   ],
   "source": [
    "len(words)"
   ]
  },
  {
   "cell_type": "code",
   "execution_count": 6,
   "id": "fb670f95-1f35-42e5-98df-975357eb779c",
   "metadata": {
    "scrolled": true
   },
   "outputs": [
    {
     "data": {
      "text/plain": [
       "{1: 'a',\n",
       " 2: 'b',\n",
       " 3: 'c',\n",
       " 4: 'd',\n",
       " 5: 'e',\n",
       " 6: 'f',\n",
       " 7: 'g',\n",
       " 8: 'h',\n",
       " 9: 'i',\n",
       " 10: 'j',\n",
       " 11: 'k',\n",
       " 12: 'l',\n",
       " 13: 'm',\n",
       " 14: 'n',\n",
       " 15: 'o',\n",
       " 16: 'p',\n",
       " 17: 'q',\n",
       " 18: 'r',\n",
       " 19: 's',\n",
       " 20: 't',\n",
       " 21: 'u',\n",
       " 22: 'v',\n",
       " 23: 'w',\n",
       " 24: 'x',\n",
       " 25: 'y',\n",
       " 26: 'z',\n",
       " 0: '.'}"
      ]
     },
     "execution_count": 6,
     "metadata": {},
     "output_type": "execute_result"
    }
   ],
   "source": [
    "chars = sorted(list(set(''.join(words))))\n",
    "stoi = {s: i for i, s in enumerate(chars, 1)}\n",
    "stoi['.'] = 0\n",
    "itos = {i: s for s, i in stoi.items()}\n",
    "itos"
   ]
  },
  {
   "cell_type": "code",
   "execution_count": 43,
   "id": "32198edc-8bce-4e23-9fa8-4a5670f197a8",
   "metadata": {},
   "outputs": [
    {
     "name": "stdout",
     "output_type": "stream",
     "text": [
      "emma\n",
      "... ----> e\n",
      "..e ----> m\n",
      ".em ----> m\n",
      "emm ----> a\n",
      "mma ----> .\n",
      "olivia\n",
      "... ----> o\n",
      "..o ----> l\n",
      ".ol ----> i\n",
      "oli ----> v\n",
      "liv ----> i\n",
      "ivi ----> a\n",
      "via ----> .\n",
      "ava\n",
      "... ----> a\n",
      "..a ----> v\n",
      ".av ----> a\n",
      "ava ----> .\n",
      "isabella\n",
      "... ----> i\n",
      "..i ----> s\n",
      ".is ----> a\n",
      "isa ----> b\n",
      "sab ----> e\n",
      "abe ----> l\n",
      "bel ----> l\n",
      "ell ----> a\n",
      "lla ----> .\n",
      "sophia\n",
      "... ----> s\n",
      "..s ----> o\n",
      ".so ----> p\n",
      "sop ----> h\n",
      "oph ----> i\n",
      "phi ----> a\n",
      "hia ----> .\n"
     ]
    }
   ],
   "source": [
    "# Building datasets\n",
    "block_size = 3\n",
    "X, Y = [], []\n",
    "for word in words[:5]:\n",
    "    print(word)\n",
    "    context = [0] * block_size\n",
    "    for ch in word + '.':\n",
    "        ix = stoi[ch]\n",
    "        X.append(context)\n",
    "        Y.append(ix)\n",
    "        print(''.join(itos[i] for i in context), '---->', itos[ix])\n",
    "        context = context[1:] + [ix]\n",
    "\n",
    "X = torch.tensor(X) # examples\n",
    "Y = torch.tensor(Y) # Labels"
   ]
  },
  {
   "cell_type": "code",
   "execution_count": 17,
   "id": "bdfe5c64-ed7a-4b6f-9f7b-2f8a7db8d0e1",
   "metadata": {},
   "outputs": [
    {
     "data": {
      "text/plain": [
       "(torch.Size([32, 3]), torch.int64, torch.Size([32]), torch.int64)"
      ]
     },
     "execution_count": 17,
     "metadata": {},
     "output_type": "execute_result"
    }
   ],
   "source": [
    "X.shape, X.dtype, Y.shape, Y.dtype"
   ]
  },
  {
   "cell_type": "markdown",
   "id": "aceabfda-bb49-4d6b-a3a5-b7b211c4c16a",
   "metadata": {},
   "source": [
    "`X` are examples, and the `Y` are the labels"
   ]
  },
  {
   "cell_type": "code",
   "execution_count": 23,
   "id": "72235489-c0f2-440a-b0b0-386fd6df65aa",
   "metadata": {},
   "outputs": [],
   "source": [
    "C = torch.rand(27, 2) # lookup table"
   ]
  },
  {
   "cell_type": "code",
   "execution_count": 25,
   "id": "b5628bc2-0b61-45fc-94ac-ccbbe5f38573",
   "metadata": {},
   "outputs": [
    {
     "data": {
      "text/plain": [
       "tensor([0.7210, 0.1280])"
      ]
     },
     "execution_count": 25,
     "metadata": {},
     "output_type": "execute_result"
    }
   ],
   "source": [
    "C[5]"
   ]
  },
  {
   "cell_type": "code",
   "execution_count": 36,
   "id": "409ed78a-3758-4891-8007-cc10a9a5d438",
   "metadata": {},
   "outputs": [
    {
     "data": {
      "text/plain": [
       "tensor([0.7210, 0.1280])"
      ]
     },
     "execution_count": 36,
     "metadata": {},
     "output_type": "execute_result"
    }
   ],
   "source": [
    "F.one_hot(torch.tensor(5), num_classes=27).float() @ C # converting, the number to one_hot, then multiply with the Matrix to get the value"
   ]
  },
  {
   "cell_type": "code",
   "execution_count": 44,
   "id": "ea6be1d8-68ec-4ad6-9034-bd4a9307e87e",
   "metadata": {},
   "outputs": [
    {
     "data": {
      "text/plain": [
       "torch.Size([32, 3, 2])"
      ]
     },
     "execution_count": 44,
     "metadata": {},
     "output_type": "execute_result"
    }
   ],
   "source": [
    "emb = C[X] # mapping to a look up table\n",
    "emb.shape"
   ]
  },
  {
   "cell_type": "code",
   "execution_count": 40,
   "id": "2d4b2094-6b9c-44fb-8414-1b98166d02be",
   "metadata": {},
   "outputs": [],
   "source": [
    "W1 = torch.randn((6, 100)) # 3 x 2 = 6\n",
    "b1 = torch.randn(100)"
   ]
  },
  {
   "cell_type": "code",
   "execution_count": 57,
   "id": "bfa9996a-515b-4f42-880f-9f12ac2d8184",
   "metadata": {},
   "outputs": [
    {
     "data": {
      "text/plain": [
       "torch.Size([32, 6])"
      ]
     },
     "execution_count": 57,
     "metadata": {},
     "output_type": "execute_result"
    }
   ],
   "source": [
    "torch.cat([emb[:, 0, :], emb[:, 1, :], emb[:, 2, :]], 1).shape"
   ]
  },
  {
   "cell_type": "code",
   "execution_count": 51,
   "id": "e9769a08-c3ff-4450-b4ce-afe72aaa0bf5",
   "metadata": {
    "scrolled": true
   },
   "outputs": [
    {
     "data": {
      "text/plain": [
       "[tensor([[0.7750, 0.6188],\n",
       "         [0.7750, 0.6188],\n",
       "         [0.7750, 0.6188],\n",
       "         [0.7210, 0.1280],\n",
       "         [0.1153, 0.9391],\n",
       "         [0.7750, 0.6188],\n",
       "         [0.7750, 0.6188],\n",
       "         [0.7750, 0.6188],\n",
       "         [0.9025, 0.4126],\n",
       "         [0.8759, 0.9134],\n",
       "         [0.1285, 0.7404],\n",
       "         [0.7820, 0.8656],\n",
       "         [0.7750, 0.6188],\n",
       "         [0.7750, 0.6188],\n",
       "         [0.7750, 0.6188],\n",
       "         [0.4715, 0.0785],\n",
       "         [0.7750, 0.6188],\n",
       "         [0.7750, 0.6188],\n",
       "         [0.7750, 0.6188],\n",
       "         [0.1285, 0.7404],\n",
       "         [0.3795, 0.7749],\n",
       "         [0.4715, 0.0785],\n",
       "         [0.7691, 0.0598],\n",
       "         [0.7210, 0.1280],\n",
       "         [0.8759, 0.9134],\n",
       "         [0.7750, 0.6188],\n",
       "         [0.7750, 0.6188],\n",
       "         [0.7750, 0.6188],\n",
       "         [0.3795, 0.7749],\n",
       "         [0.9025, 0.4126],\n",
       "         [0.7278, 0.8169],\n",
       "         [0.5856, 0.8938]]),\n",
       " tensor([[0.7750, 0.6188],\n",
       "         [0.7750, 0.6188],\n",
       "         [0.7210, 0.1280],\n",
       "         [0.1153, 0.9391],\n",
       "         [0.1153, 0.9391],\n",
       "         [0.7750, 0.6188],\n",
       "         [0.7750, 0.6188],\n",
       "         [0.9025, 0.4126],\n",
       "         [0.8759, 0.9134],\n",
       "         [0.1285, 0.7404],\n",
       "         [0.7820, 0.8656],\n",
       "         [0.1285, 0.7404],\n",
       "         [0.7750, 0.6188],\n",
       "         [0.7750, 0.6188],\n",
       "         [0.4715, 0.0785],\n",
       "         [0.7820, 0.8656],\n",
       "         [0.7750, 0.6188],\n",
       "         [0.7750, 0.6188],\n",
       "         [0.1285, 0.7404],\n",
       "         [0.3795, 0.7749],\n",
       "         [0.4715, 0.0785],\n",
       "         [0.7691, 0.0598],\n",
       "         [0.7210, 0.1280],\n",
       "         [0.8759, 0.9134],\n",
       "         [0.8759, 0.9134],\n",
       "         [0.7750, 0.6188],\n",
       "         [0.7750, 0.6188],\n",
       "         [0.3795, 0.7749],\n",
       "         [0.9025, 0.4126],\n",
       "         [0.7278, 0.8169],\n",
       "         [0.5856, 0.8938],\n",
       "         [0.1285, 0.7404]]),\n",
       " tensor([[0.7750, 0.6188],\n",
       "         [0.7210, 0.1280],\n",
       "         [0.1153, 0.9391],\n",
       "         [0.1153, 0.9391],\n",
       "         [0.4715, 0.0785],\n",
       "         [0.7750, 0.6188],\n",
       "         [0.9025, 0.4126],\n",
       "         [0.8759, 0.9134],\n",
       "         [0.1285, 0.7404],\n",
       "         [0.7820, 0.8656],\n",
       "         [0.1285, 0.7404],\n",
       "         [0.4715, 0.0785],\n",
       "         [0.7750, 0.6188],\n",
       "         [0.4715, 0.0785],\n",
       "         [0.7820, 0.8656],\n",
       "         [0.4715, 0.0785],\n",
       "         [0.7750, 0.6188],\n",
       "         [0.1285, 0.7404],\n",
       "         [0.3795, 0.7749],\n",
       "         [0.4715, 0.0785],\n",
       "         [0.7691, 0.0598],\n",
       "         [0.7210, 0.1280],\n",
       "         [0.8759, 0.9134],\n",
       "         [0.8759, 0.9134],\n",
       "         [0.4715, 0.0785],\n",
       "         [0.7750, 0.6188],\n",
       "         [0.3795, 0.7749],\n",
       "         [0.9025, 0.4126],\n",
       "         [0.7278, 0.8169],\n",
       "         [0.5856, 0.8938],\n",
       "         [0.1285, 0.7404],\n",
       "         [0.4715, 0.0785]])]"
      ]
     },
     "execution_count": 51,
     "metadata": {},
     "output_type": "execute_result"
    }
   ],
   "source": [
    "[emb[:, 0, :], emb[:, 1, :], emb[:, 2, :]]"
   ]
  },
  {
   "cell_type": "code",
   "execution_count": 58,
   "id": "e548caee-366a-4364-9ec0-ea9e93adab38",
   "metadata": {},
   "outputs": [
    {
     "data": {
      "text/plain": [
       "torch.Size([32, 6])"
      ]
     },
     "execution_count": 58,
     "metadata": {},
     "output_type": "execute_result"
    }
   ],
   "source": [
    "torch.cat(torch.unbind(emb, 1), 1).shape"
   ]
  },
  {
   "cell_type": "markdown",
   "id": "17161b83-efe1-4a4b-aa4c-c1ae853a4141",
   "metadata": {},
   "source": [
    "[Resume from here](https://youtu.be/TCH_1BHY58I?t=1430)"
   ]
  }
 ],
 "metadata": {
  "kernelspec": {
   "display_name": "Python 3 (ipykernel)",
   "language": "python",
   "name": "python3"
  },
  "language_info": {
   "codemirror_mode": {
    "name": "ipython",
    "version": 3
   },
   "file_extension": ".py",
   "mimetype": "text/x-python",
   "name": "python",
   "nbconvert_exporter": "python",
   "pygments_lexer": "ipython3",
   "version": "3.10.15"
  }
 },
 "nbformat": 4,
 "nbformat_minor": 5
}
